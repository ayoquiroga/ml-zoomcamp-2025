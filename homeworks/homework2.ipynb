{
 "cells": [
  {
   "cell_type": "markdown",
   "id": "6bce13e7",
   "metadata": {},
   "source": [
    "Homework 2\n",
    "\n",
    "Dataset\n",
    "\n",
    "\n",
    "https://raw.githubusercontent.com/alexeygrigorev/datasets/master/car_fuel_efficiency.csv\n",
    "\n",
    "or with wget:"
   ]
  },
  {
   "cell_type": "code",
   "execution_count": 737,
   "id": "f386656f",
   "metadata": {},
   "outputs": [
    {
     "name": "stderr",
     "output_type": "stream",
     "text": [
      "--2025-10-06 09:35:13--  https://raw.githubusercontent.com/alexeygrigorev/datasets/master/car_fuel_efficiency.csv\n",
      "Resolving raw.githubusercontent.com (raw.githubusercontent.com)... 185.199.109.133, 185.199.110.133, 185.199.111.133, ...\n",
      "Connecting to raw.githubusercontent.com (raw.githubusercontent.com)|185.199.109.133|:443... connected.\n",
      "HTTP request sent, awaiting response... 200 OK\n",
      "Length: 874188 (854K) [text/plain]\n",
      "Saving to: 'car_fuel_efficiency.csv'\n",
      "\n",
      "     0K .......... .......... .......... .......... ..........  5% 1,40M 1s\n",
      "    50K .......... .......... .......... .......... .......... 11% 3,25M 0s\n",
      "   100K .......... .......... .......... .......... .......... 17% 4,54M 0s\n",
      "   150K .......... .......... .......... .......... .......... 23% 6,22M 0s\n",
      "   200K .......... .......... .......... .......... .......... 29% 2,54M 0s\n",
      "   250K .......... .......... .......... .......... .......... 35% 5,43M 0s\n",
      "   300K .......... .......... .......... .......... .......... 40%  154M 0s\n",
      "   350K .......... .......... .......... .......... .......... 46% 12,7M 0s\n",
      "   400K .......... .......... .......... .......... .......... 52% 5,60M 0s\n",
      "   450K .......... .......... .......... .......... .......... 58% 7,90M 0s\n",
      "   500K .......... .......... .......... .......... .......... 64% 4,35M 0s\n",
      "   550K .......... .......... .......... .......... .......... 70% 14,4M 0s\n",
      "   600K .......... .......... .......... .......... .......... 76% 11,3M 0s\n",
      "   650K .......... .......... .......... .......... .......... 81% 10,9M 0s\n",
      "   700K .......... .......... .......... .......... .......... 87% 11,1M 0s\n",
      "   750K .......... .......... .......... .......... .......... 93% 20,3M 0s\n",
      "   800K .......... .......... .......... .......... .......... 99% 8,97M 0s\n",
      "   850K ...                                                   100% 70,6G=0,2s\n",
      "\n",
      "2025-10-06 09:35:14 (5,51 MB/s) - 'car_fuel_efficiency.csv' saved [874188/874188]\n",
      "\n"
     ]
    }
   ],
   "source": [
    "import pandas as pd\n",
    "import numpy as np\n",
    "import matplotlib.pyplot as plt\n",
    "import seaborn as sns\n",
    "%matplotlib inline\n",
    "\n",
    "data = \"https://raw.githubusercontent.com/alexeygrigorev/datasets/master/car_fuel_efficiency.csv\"\n",
    "\n",
    "!wget $data -O car_fuel_efficiency.csv"
   ]
  },
  {
   "cell_type": "markdown",
   "id": "87f1b6f1",
   "metadata": {},
   "source": [
    "The goal of this homework is to create a regression model for predicting the car fuel efficiency (column 'fuel_efficiency_mpg')."
   ]
  },
  {
   "cell_type": "code",
   "execution_count": 738,
   "id": "65809fb6-faca-47a2-8ee6-e2fa65ba0c07",
   "metadata": {},
   "outputs": [
    {
     "data": {
      "text/html": [
       "<div>\n",
       "<style scoped>\n",
       "    .dataframe tbody tr th:only-of-type {\n",
       "        vertical-align: middle;\n",
       "    }\n",
       "\n",
       "    .dataframe tbody tr th {\n",
       "        vertical-align: top;\n",
       "    }\n",
       "\n",
       "    .dataframe thead th {\n",
       "        text-align: right;\n",
       "    }\n",
       "</style>\n",
       "<table border=\"1\" class=\"dataframe\">\n",
       "  <thead>\n",
       "    <tr style=\"text-align: right;\">\n",
       "      <th></th>\n",
       "      <th>engine_displacement</th>\n",
       "      <th>num_cylinders</th>\n",
       "      <th>horsepower</th>\n",
       "      <th>vehicle_weight</th>\n",
       "      <th>acceleration</th>\n",
       "      <th>model_year</th>\n",
       "      <th>origin</th>\n",
       "      <th>fuel_type</th>\n",
       "      <th>drivetrain</th>\n",
       "      <th>num_doors</th>\n",
       "      <th>fuel_efficiency_mpg</th>\n",
       "    </tr>\n",
       "  </thead>\n",
       "  <tbody>\n",
       "    <tr>\n",
       "      <th>0</th>\n",
       "      <td>170</td>\n",
       "      <td>3.0</td>\n",
       "      <td>159.0</td>\n",
       "      <td>3413.433759</td>\n",
       "      <td>17.7</td>\n",
       "      <td>2003</td>\n",
       "      <td>Europe</td>\n",
       "      <td>Gasoline</td>\n",
       "      <td>All-wheel drive</td>\n",
       "      <td>0.0</td>\n",
       "      <td>13.231729</td>\n",
       "    </tr>\n",
       "    <tr>\n",
       "      <th>1</th>\n",
       "      <td>130</td>\n",
       "      <td>5.0</td>\n",
       "      <td>97.0</td>\n",
       "      <td>3149.664934</td>\n",
       "      <td>17.8</td>\n",
       "      <td>2007</td>\n",
       "      <td>USA</td>\n",
       "      <td>Gasoline</td>\n",
       "      <td>Front-wheel drive</td>\n",
       "      <td>0.0</td>\n",
       "      <td>13.688217</td>\n",
       "    </tr>\n",
       "    <tr>\n",
       "      <th>2</th>\n",
       "      <td>170</td>\n",
       "      <td>NaN</td>\n",
       "      <td>78.0</td>\n",
       "      <td>3079.038997</td>\n",
       "      <td>15.1</td>\n",
       "      <td>2018</td>\n",
       "      <td>Europe</td>\n",
       "      <td>Gasoline</td>\n",
       "      <td>Front-wheel drive</td>\n",
       "      <td>0.0</td>\n",
       "      <td>14.246341</td>\n",
       "    </tr>\n",
       "    <tr>\n",
       "      <th>3</th>\n",
       "      <td>220</td>\n",
       "      <td>4.0</td>\n",
       "      <td>NaN</td>\n",
       "      <td>2542.392402</td>\n",
       "      <td>20.2</td>\n",
       "      <td>2009</td>\n",
       "      <td>USA</td>\n",
       "      <td>Diesel</td>\n",
       "      <td>All-wheel drive</td>\n",
       "      <td>2.0</td>\n",
       "      <td>16.912736</td>\n",
       "    </tr>\n",
       "    <tr>\n",
       "      <th>4</th>\n",
       "      <td>210</td>\n",
       "      <td>1.0</td>\n",
       "      <td>140.0</td>\n",
       "      <td>3460.870990</td>\n",
       "      <td>14.4</td>\n",
       "      <td>2009</td>\n",
       "      <td>Europe</td>\n",
       "      <td>Gasoline</td>\n",
       "      <td>All-wheel drive</td>\n",
       "      <td>2.0</td>\n",
       "      <td>12.488369</td>\n",
       "    </tr>\n",
       "  </tbody>\n",
       "</table>\n",
       "</div>"
      ],
      "text/plain": [
       "   engine_displacement  num_cylinders  horsepower  vehicle_weight  \\\n",
       "0                  170            3.0       159.0     3413.433759   \n",
       "1                  130            5.0        97.0     3149.664934   \n",
       "2                  170            NaN        78.0     3079.038997   \n",
       "3                  220            4.0         NaN     2542.392402   \n",
       "4                  210            1.0       140.0     3460.870990   \n",
       "\n",
       "   acceleration  model_year  origin fuel_type         drivetrain  num_doors  \\\n",
       "0          17.7        2003  Europe  Gasoline    All-wheel drive        0.0   \n",
       "1          17.8        2007     USA  Gasoline  Front-wheel drive        0.0   \n",
       "2          15.1        2018  Europe  Gasoline  Front-wheel drive        0.0   \n",
       "3          20.2        2009     USA    Diesel    All-wheel drive        2.0   \n",
       "4          14.4        2009  Europe  Gasoline    All-wheel drive        2.0   \n",
       "\n",
       "   fuel_efficiency_mpg  \n",
       "0            13.231729  \n",
       "1            13.688217  \n",
       "2            14.246341  \n",
       "3            16.912736  \n",
       "4            12.488369  "
      ]
     },
     "execution_count": 738,
     "metadata": {},
     "output_type": "execute_result"
    }
   ],
   "source": [
    "df = pd.read_csv('car_fuel_efficiency.csv')\n",
    "df.head()"
   ]
  },
  {
   "cell_type": "code",
   "execution_count": 739,
   "id": "4fb0a8ba",
   "metadata": {},
   "outputs": [
    {
     "data": {
      "text/plain": [
       "Index(['engine_displacement', 'num_cylinders', 'horsepower', 'vehicle_weight',\n",
       "       'acceleration', 'model_year', 'origin', 'fuel_type', 'drivetrain',\n",
       "       'num_doors', 'fuel_efficiency_mpg'],\n",
       "      dtype='object')"
      ]
     },
     "execution_count": 739,
     "metadata": {},
     "output_type": "execute_result"
    }
   ],
   "source": [
    "df.columns"
   ]
  },
  {
   "cell_type": "markdown",
   "id": "3ddc7f39",
   "metadata": {},
   "source": [
    "\n",
    "# Preparing the dataset\n",
    "Use only the following columns:\n",
    "\n",
    "* 'engine_displacement',\n",
    "* 'horsepower',\n",
    "* 'vehicle_weight',\n",
    "* 'model_year',\n",
    "* 'fuel_efficiency_mpg'\n",
    "\n"
   ]
  },
  {
   "cell_type": "code",
   "execution_count": 740,
   "id": "3fb75e47",
   "metadata": {},
   "outputs": [
    {
     "data": {
      "text/html": [
       "<div>\n",
       "<style scoped>\n",
       "    .dataframe tbody tr th:only-of-type {\n",
       "        vertical-align: middle;\n",
       "    }\n",
       "\n",
       "    .dataframe tbody tr th {\n",
       "        vertical-align: top;\n",
       "    }\n",
       "\n",
       "    .dataframe thead th {\n",
       "        text-align: right;\n",
       "    }\n",
       "</style>\n",
       "<table border=\"1\" class=\"dataframe\">\n",
       "  <thead>\n",
       "    <tr style=\"text-align: right;\">\n",
       "      <th></th>\n",
       "      <th>engine_displacement</th>\n",
       "      <th>horsepower</th>\n",
       "      <th>vehicle_weight</th>\n",
       "      <th>model_year</th>\n",
       "      <th>fuel_efficiency_mpg</th>\n",
       "    </tr>\n",
       "  </thead>\n",
       "  <tbody>\n",
       "    <tr>\n",
       "      <th>0</th>\n",
       "      <td>170</td>\n",
       "      <td>159.0</td>\n",
       "      <td>3413.433759</td>\n",
       "      <td>2003</td>\n",
       "      <td>13.231729</td>\n",
       "    </tr>\n",
       "    <tr>\n",
       "      <th>1</th>\n",
       "      <td>130</td>\n",
       "      <td>97.0</td>\n",
       "      <td>3149.664934</td>\n",
       "      <td>2007</td>\n",
       "      <td>13.688217</td>\n",
       "    </tr>\n",
       "    <tr>\n",
       "      <th>2</th>\n",
       "      <td>170</td>\n",
       "      <td>78.0</td>\n",
       "      <td>3079.038997</td>\n",
       "      <td>2018</td>\n",
       "      <td>14.246341</td>\n",
       "    </tr>\n",
       "    <tr>\n",
       "      <th>3</th>\n",
       "      <td>220</td>\n",
       "      <td>NaN</td>\n",
       "      <td>2542.392402</td>\n",
       "      <td>2009</td>\n",
       "      <td>16.912736</td>\n",
       "    </tr>\n",
       "    <tr>\n",
       "      <th>4</th>\n",
       "      <td>210</td>\n",
       "      <td>140.0</td>\n",
       "      <td>3460.870990</td>\n",
       "      <td>2009</td>\n",
       "      <td>12.488369</td>\n",
       "    </tr>\n",
       "    <tr>\n",
       "      <th>...</th>\n",
       "      <td>...</td>\n",
       "      <td>...</td>\n",
       "      <td>...</td>\n",
       "      <td>...</td>\n",
       "      <td>...</td>\n",
       "    </tr>\n",
       "    <tr>\n",
       "      <th>9699</th>\n",
       "      <td>140</td>\n",
       "      <td>164.0</td>\n",
       "      <td>2981.107371</td>\n",
       "      <td>2013</td>\n",
       "      <td>15.101802</td>\n",
       "    </tr>\n",
       "    <tr>\n",
       "      <th>9700</th>\n",
       "      <td>180</td>\n",
       "      <td>154.0</td>\n",
       "      <td>2439.525729</td>\n",
       "      <td>2004</td>\n",
       "      <td>17.962326</td>\n",
       "    </tr>\n",
       "    <tr>\n",
       "      <th>9701</th>\n",
       "      <td>220</td>\n",
       "      <td>138.0</td>\n",
       "      <td>2583.471318</td>\n",
       "      <td>2008</td>\n",
       "      <td>17.186587</td>\n",
       "    </tr>\n",
       "    <tr>\n",
       "      <th>9702</th>\n",
       "      <td>230</td>\n",
       "      <td>177.0</td>\n",
       "      <td>2905.527390</td>\n",
       "      <td>2011</td>\n",
       "      <td>15.331551</td>\n",
       "    </tr>\n",
       "    <tr>\n",
       "      <th>9703</th>\n",
       "      <td>270</td>\n",
       "      <td>140.0</td>\n",
       "      <td>2908.043477</td>\n",
       "      <td>2005</td>\n",
       "      <td>14.884467</td>\n",
       "    </tr>\n",
       "  </tbody>\n",
       "</table>\n",
       "<p>9704 rows × 5 columns</p>\n",
       "</div>"
      ],
      "text/plain": [
       "      engine_displacement  horsepower  vehicle_weight  model_year  \\\n",
       "0                     170       159.0     3413.433759        2003   \n",
       "1                     130        97.0     3149.664934        2007   \n",
       "2                     170        78.0     3079.038997        2018   \n",
       "3                     220         NaN     2542.392402        2009   \n",
       "4                     210       140.0     3460.870990        2009   \n",
       "...                   ...         ...             ...         ...   \n",
       "9699                  140       164.0     2981.107371        2013   \n",
       "9700                  180       154.0     2439.525729        2004   \n",
       "9701                  220       138.0     2583.471318        2008   \n",
       "9702                  230       177.0     2905.527390        2011   \n",
       "9703                  270       140.0     2908.043477        2005   \n",
       "\n",
       "      fuel_efficiency_mpg  \n",
       "0               13.231729  \n",
       "1               13.688217  \n",
       "2               14.246341  \n",
       "3               16.912736  \n",
       "4               12.488369  \n",
       "...                   ...  \n",
       "9699            15.101802  \n",
       "9700            17.962326  \n",
       "9701            17.186587  \n",
       "9702            15.331551  \n",
       "9703            14.884467  \n",
       "\n",
       "[9704 rows x 5 columns]"
      ]
     },
     "execution_count": 740,
     "metadata": {},
     "output_type": "execute_result"
    }
   ],
   "source": [
    "df_filtered = df[['engine_displacement','horsepower','vehicle_weight','model_year','fuel_efficiency_mpg']].copy()\n",
    "\n",
    "df_filtered\n"
   ]
  },
  {
   "cell_type": "markdown",
   "id": "41c95ff7",
   "metadata": {},
   "source": [
    "EDA\n",
    "Look at the fuel_efficiency_mpg variable. Does it have a long tail?"
   ]
  },
  {
   "cell_type": "code",
   "execution_count": 741,
   "id": "42d76a3d",
   "metadata": {},
   "outputs": [
    {
     "data": {
      "text/plain": [
       "<Axes: xlabel='fuel_efficiency_mpg', ylabel='Count'>"
      ]
     },
     "execution_count": 741,
     "metadata": {},
     "output_type": "execute_result"
    },
    {
     "data": {
      "image/png": "[encoded data removed]",
      "text/plain": [
       "<Figure size 640x480 with 1 Axes>"
      ]
     },
     "metadata": {},
     "output_type": "display_data"
    }
   ],
   "source": [
    "sns.histplot(df_filtered.fuel_efficiency_mpg, bins=50, color='green')"
   ]
  },
  {
   "cell_type": "markdown",
   "id": "cfe65e7c",
   "metadata": {},
   "source": [
    "Response: \n",
    "\n",
    "* No, it doesn´t have a long tail, it looks like a normal distribution ##"
   ]
  },
  {
   "cell_type": "markdown",
   "id": "4d221c40",
   "metadata": {},
   "source": [
    "# Question 1\n",
    "\n",
    "There's one column with missing values. What is it?\n",
    "\n",
    "* 'engine_displacement'\n",
    "* 'horsepower'\n",
    "* 'vehicle_weight'\n",
    "* 'model_year'"
   ]
  },
  {
   "cell_type": "code",
   "execution_count": 742,
   "id": "192ebade",
   "metadata": {},
   "outputs": [
    {
     "data": {
      "text/plain": [
       "engine_displacement      0\n",
       "horsepower             708\n",
       "vehicle_weight           0\n",
       "model_year               0\n",
       "fuel_efficiency_mpg      0\n",
       "dtype: int64"
      ]
     },
     "execution_count": 742,
     "metadata": {},
     "output_type": "execute_result"
    }
   ],
   "source": [
    "df_filtered.isnull().sum()"
   ]
  },
  {
   "cell_type": "markdown",
   "id": "deebf20c",
   "metadata": {},
   "source": [
    "Response:\n",
    "\n",
    "* The column with missing values is 'horsepower'"
   ]
  },
  {
   "cell_type": "markdown",
   "id": "ec5fdf34",
   "metadata": {},
   "source": [
    "# Question 2\n",
    "\n",
    "What's the median (50% percentile) for variable 'horsepower'?\n",
    "\n",
    "* 49\n",
    "* 99\n",
    "* 149\n",
    "* 199"
   ]
  },
  {
   "cell_type": "code",
   "execution_count": 743,
   "id": "c492b8b1-eae4-4c82-ab77-212bd612f823",
   "metadata": {},
   "outputs": [
    {
     "data": {
      "text/plain": [
       "np.float64(149.0)"
      ]
     },
     "execution_count": 743,
     "metadata": {},
     "output_type": "execute_result"
    }
   ],
   "source": [
    "hp_median_value = np.nanpercentile(df_filtered.horsepower.values, 50)\n",
    "\n",
    "hp_median_value"
   ]
  },
  {
   "cell_type": "markdown",
   "id": "a2fe3769",
   "metadata": {},
   "source": [
    "Response:\n",
    "\n",
    "## 149"
   ]
  },
  {
   "cell_type": "markdown",
   "id": "b05bfba2",
   "metadata": {},
   "source": [
    "# Prepare and split the dataset\n",
    "\n",
    "Shuffle the dataset (the filtered one you created above), use seed 42.\n",
    "\n",
    "Split your data in train/val/test sets, with 60%/20%/20% distribution.\n",
    "\n",
    "Use the same code as in the lectures"
   ]
  },
  {
   "cell_type": "markdown",
   "id": "43453eef",
   "metadata": {},
   "source": [
    "Verifying the length of df"
   ]
  },
  {
   "cell_type": "code",
   "execution_count": 745,
   "id": "a308fa7d",
   "metadata": {},
   "outputs": [
    {
     "data": {
      "text/plain": [
       "9704"
      ]
     },
     "execution_count": 745,
     "metadata": {},
     "output_type": "execute_result"
    }
   ],
   "source": [
    "n = len(df_filtered)\n",
    "n"
   ]
  },
  {
   "cell_type": "markdown",
   "id": "2bc6cbb0",
   "metadata": {},
   "source": [
    "creating the dataframe and assigning the index of initial df for new ones splited"
   ]
  },
  {
   "cell_type": "code",
   "execution_count": 746,
   "id": "a407690c",
   "metadata": {},
   "outputs": [
    {
     "data": {
      "text/plain": [
       "(5824, 1940, 1940)"
      ]
     },
     "execution_count": 746,
     "metadata": {},
     "output_type": "execute_result"
    }
   ],
   "source": [
    "df_train = df.iloc[:n_train]\n",
    "df_val = df.iloc[n_train:n_train+n_val]\n",
    "df_test = df.iloc[n_train+n_val:]\n",
    "\n",
    "len(df_train), len(df_val), len(df_test)"
   ]
  },
  {
   "cell_type": "markdown",
   "id": "c5afb2e5",
   "metadata": {},
   "source": [
    "creating an index with sequence numbers with the length of dataframe, seeding with 42 and shuffling it"
   ]
  },
  {
   "cell_type": "code",
   "execution_count": 747,
   "id": "8cfa59f0",
   "metadata": {},
   "outputs": [
    {
     "data": {
      "text/plain": [
       "array([ 483, 7506, 8795, ..., 5390,  860, 7270])"
      ]
     },
     "execution_count": 747,
     "metadata": {},
     "output_type": "execute_result"
    }
   ],
   "source": [
    "idx = np.arange(n)\n",
    "np.random.seed(42)\n",
    "np.random.shuffle(idx)\n",
    "idx"
   ]
  },
  {
   "cell_type": "markdown",
   "id": "436e1eca",
   "metadata": {},
   "source": [
    "verifying shuffled idxs"
   ]
  },
  {
   "cell_type": "code",
   "execution_count": 748,
   "id": "1c35ba81",
   "metadata": {},
   "outputs": [
    {
     "data": {
      "text/plain": [
       "(array([ 483, 7506, 8795, ..., 6735, 2052, 1776]),\n",
       " array([6163, 3313, 4781, ..., 7541, 1577, 3906]),\n",
       " array([3729, 7764, 4358, ..., 5390,  860, 7270]))"
      ]
     },
     "execution_count": 748,
     "metadata": {},
     "output_type": "execute_result"
    }
   ],
   "source": [
    "idx[:n_train], idx[n_train:n_train+n_val], idx[n_train+n_val:]"
   ]
  },
  {
   "cell_type": "markdown",
   "id": "c25f3a75",
   "metadata": {},
   "source": [
    "Assign the created index to the splited dataframes, so that instead of accessing each row directly, it is now accessed by its index. "
   ]
  },
  {
   "cell_type": "code",
   "execution_count": 749,
   "id": "ec28e418",
   "metadata": {},
   "outputs": [
    {
     "data": {
      "text/plain": [
       "(5824, 1940, 1940)"
      ]
     },
     "execution_count": 749,
     "metadata": {},
     "output_type": "execute_result"
    }
   ],
   "source": [
    "df_train = df.iloc[idx[:n_train]]\n",
    "df_val = df.iloc[idx[n_train:n_train+n_val]]\n",
    "df_test = df.iloc[idx[n_train+n_val:]]\n",
    "\n",
    "len(df_train), len(df_val), len(df_test)"
   ]
  },
  {
   "cell_type": "markdown",
   "id": "0f40a526",
   "metadata": {},
   "source": [
    "seeing some rows details"
   ]
  },
  {
   "cell_type": "code",
   "execution_count": 750,
   "id": "d83756b4",
   "metadata": {},
   "outputs": [
    {
     "data": {
      "text/html": [
       "<div>\n",
       "<style scoped>\n",
       "    .dataframe tbody tr th:only-of-type {\n",
       "        vertical-align: middle;\n",
       "    }\n",
       "\n",
       "    .dataframe tbody tr th {\n",
       "        vertical-align: top;\n",
       "    }\n",
       "\n",
       "    .dataframe thead th {\n",
       "        text-align: right;\n",
       "    }\n",
       "</style>\n",
       "<table border=\"1\" class=\"dataframe\">\n",
       "  <thead>\n",
       "    <tr style=\"text-align: right;\">\n",
       "      <th></th>\n",
       "      <th>engine_displacement</th>\n",
       "      <th>num_cylinders</th>\n",
       "      <th>horsepower</th>\n",
       "      <th>vehicle_weight</th>\n",
       "      <th>acceleration</th>\n",
       "      <th>model_year</th>\n",
       "      <th>origin</th>\n",
       "      <th>fuel_type</th>\n",
       "      <th>drivetrain</th>\n",
       "      <th>num_doors</th>\n",
       "      <th>fuel_efficiency_mpg</th>\n",
       "    </tr>\n",
       "  </thead>\n",
       "  <tbody>\n",
       "    <tr>\n",
       "      <th>4562</th>\n",
       "      <td>180</td>\n",
       "      <td>8.0</td>\n",
       "      <td>120.0</td>\n",
       "      <td>3551.398040</td>\n",
       "      <td>NaN</td>\n",
       "      <td>2013</td>\n",
       "      <td>Asia</td>\n",
       "      <td>Gasoline</td>\n",
       "      <td>All-wheel drive</td>\n",
       "      <td>0.0</td>\n",
       "      <td>12.145734</td>\n",
       "    </tr>\n",
       "    <tr>\n",
       "      <th>4129</th>\n",
       "      <td>140</td>\n",
       "      <td>3.0</td>\n",
       "      <td>107.0</td>\n",
       "      <td>1832.649773</td>\n",
       "      <td>16.5</td>\n",
       "      <td>2012</td>\n",
       "      <td>Asia</td>\n",
       "      <td>Gasoline</td>\n",
       "      <td>All-wheel drive</td>\n",
       "      <td>-1.0</td>\n",
       "      <td>20.485270</td>\n",
       "    </tr>\n",
       "  </tbody>\n",
       "</table>\n",
       "</div>"
      ],
      "text/plain": [
       "      engine_displacement  num_cylinders  horsepower  vehicle_weight  \\\n",
       "4562                  180            8.0       120.0     3551.398040   \n",
       "4129                  140            3.0       107.0     1832.649773   \n",
       "\n",
       "      acceleration  model_year origin fuel_type       drivetrain  num_doors  \\\n",
       "4562           NaN        2013   Asia  Gasoline  All-wheel drive        0.0   \n",
       "4129          16.5        2012   Asia  Gasoline  All-wheel drive       -1.0   \n",
       "\n",
       "      fuel_efficiency_mpg  \n",
       "4562            12.145734  \n",
       "4129            20.485270  "
      ]
     },
     "execution_count": 750,
     "metadata": {},
     "output_type": "execute_result"
    }
   ],
   "source": [
    "df_train.iloc[[5,15]]"
   ]
  },
  {
   "cell_type": "markdown",
   "id": "5d1be97c",
   "metadata": {},
   "source": [
    "reseting the indexes"
   ]
  },
  {
   "cell_type": "code",
   "execution_count": 751,
   "id": "3c8f1369",
   "metadata": {},
   "outputs": [],
   "source": [
    "df_train = df_train.reset_index(drop=True)\n",
    "df_val = df_val.reset_index(drop=True)\n",
    "df_test = df_test.reset_index(drop=True)"
   ]
  },
  {
   "cell_type": "markdown",
   "id": "975702ed",
   "metadata": {},
   "source": [
    "seeing the same rows again"
   ]
  },
  {
   "cell_type": "code",
   "execution_count": 752,
   "id": "e427a5bf",
   "metadata": {},
   "outputs": [
    {
     "data": {
      "text/html": [
       "<div>\n",
       "<style scoped>\n",
       "    .dataframe tbody tr th:only-of-type {\n",
       "        vertical-align: middle;\n",
       "    }\n",
       "\n",
       "    .dataframe tbody tr th {\n",
       "        vertical-align: top;\n",
       "    }\n",
       "\n",
       "    .dataframe thead th {\n",
       "        text-align: right;\n",
       "    }\n",
       "</style>\n",
       "<table border=\"1\" class=\"dataframe\">\n",
       "  <thead>\n",
       "    <tr style=\"text-align: right;\">\n",
       "      <th></th>\n",
       "      <th>engine_displacement</th>\n",
       "      <th>num_cylinders</th>\n",
       "      <th>horsepower</th>\n",
       "      <th>vehicle_weight</th>\n",
       "      <th>acceleration</th>\n",
       "      <th>model_year</th>\n",
       "      <th>origin</th>\n",
       "      <th>fuel_type</th>\n",
       "      <th>drivetrain</th>\n",
       "      <th>num_doors</th>\n",
       "      <th>fuel_efficiency_mpg</th>\n",
       "    </tr>\n",
       "  </thead>\n",
       "  <tbody>\n",
       "    <tr>\n",
       "      <th>5</th>\n",
       "      <td>180</td>\n",
       "      <td>8.0</td>\n",
       "      <td>120.0</td>\n",
       "      <td>3551.398040</td>\n",
       "      <td>NaN</td>\n",
       "      <td>2013</td>\n",
       "      <td>Asia</td>\n",
       "      <td>Gasoline</td>\n",
       "      <td>All-wheel drive</td>\n",
       "      <td>0.0</td>\n",
       "      <td>12.145734</td>\n",
       "    </tr>\n",
       "    <tr>\n",
       "      <th>15</th>\n",
       "      <td>140</td>\n",
       "      <td>3.0</td>\n",
       "      <td>107.0</td>\n",
       "      <td>1832.649773</td>\n",
       "      <td>16.5</td>\n",
       "      <td>2012</td>\n",
       "      <td>Asia</td>\n",
       "      <td>Gasoline</td>\n",
       "      <td>All-wheel drive</td>\n",
       "      <td>-1.0</td>\n",
       "      <td>20.485270</td>\n",
       "    </tr>\n",
       "  </tbody>\n",
       "</table>\n",
       "</div>"
      ],
      "text/plain": [
       "    engine_displacement  num_cylinders  horsepower  vehicle_weight  \\\n",
       "5                   180            8.0       120.0     3551.398040   \n",
       "15                  140            3.0       107.0     1832.649773   \n",
       "\n",
       "    acceleration  model_year origin fuel_type       drivetrain  num_doors  \\\n",
       "5            NaN        2013   Asia  Gasoline  All-wheel drive        0.0   \n",
       "15          16.5        2012   Asia  Gasoline  All-wheel drive       -1.0   \n",
       "\n",
       "    fuel_efficiency_mpg  \n",
       "5             12.145734  \n",
       "15            20.485270  "
      ]
     },
     "execution_count": 752,
     "metadata": {},
     "output_type": "execute_result"
    }
   ],
   "source": [
    "df_train.iloc[[5,15]]"
   ]
  },
  {
   "cell_type": "markdown",
   "id": "6b951d77",
   "metadata": {},
   "source": [
    "saving de original values of the target 'y' = 'fuel_efficiency_mpg'"
   ]
  },
  {
   "cell_type": "code",
   "execution_count": 753,
   "id": "5a0052db",
   "metadata": {},
   "outputs": [
    {
     "data": {
      "text/plain": [
       "((5824,), (1940,), (1940,))"
      ]
     },
     "execution_count": 753,
     "metadata": {},
     "output_type": "execute_result"
    }
   ],
   "source": [
    "y_train_orig = df_train.fuel_efficiency_mpg.values\n",
    "y_val_orig = df_val.fuel_efficiency_mpg.values \n",
    "y_test_orig = df_test.fuel_efficiency_mpg.values\n",
    "y_train_orig.shape, y_val_orig.shape, y_test_orig.shape"
   ]
  },
  {
   "cell_type": "markdown",
   "id": "f9a7f2ec",
   "metadata": {},
   "source": [
    "veryfing the values"
   ]
  },
  {
   "cell_type": "code",
   "execution_count": 754,
   "id": "68ed7b5e",
   "metadata": {},
   "outputs": [
    {
     "data": {
      "text/plain": [
       "(array([16.64294342, 16.29837715, 18.59182197, ..., 17.59323665,\n",
       "        18.92574819, 17.96528447]),\n",
       " array([15.36634109, 14.60118181, 12.24703219, ..., 13.61312692,\n",
       "        13.73334321, 15.81604972]),\n",
       " array([15.80435416, 14.27237387, 11.74844072, ..., 18.40443466,\n",
       "        20.50246014, 16.81624056]))"
      ]
     },
     "execution_count": 754,
     "metadata": {},
     "output_type": "execute_result"
    }
   ],
   "source": [
    "y_train_orig, y_val_orig, y_test_orig"
   ]
  },
  {
   "cell_type": "markdown",
   "id": "e82f0618",
   "metadata": {},
   "source": [
    "Creating and saving the 'y' target for each split of the data frame and applying the logarithm plus one to obtain shorter values"
   ]
  },
  {
   "cell_type": "code",
   "execution_count": 755,
   "id": "b002ea01",
   "metadata": {},
   "outputs": [],
   "source": [
    "y_train = np.log1p(df_train.fuel_efficiency_mpg.values)\n",
    "y_val = np.log1p(df_val.fuel_efficiency_mpg.values)\n",
    "y_test = np.log1p(df_test.fuel_efficiency_mpg.values)"
   ]
  },
  {
   "cell_type": "markdown",
   "id": "e7f01e13",
   "metadata": {},
   "source": [
    "verifying the lengths"
   ]
  },
  {
   "cell_type": "code",
   "execution_count": 757,
   "id": "7bc8c459",
   "metadata": {},
   "outputs": [
    {
     "data": {
      "text/plain": [
       "(5824, 1940, 1940)"
      ]
     },
     "execution_count": 757,
     "metadata": {},
     "output_type": "execute_result"
    }
   ],
   "source": [
    "len(y_train), len(y_val), len(y_test)"
   ]
  },
  {
   "cell_type": "markdown",
   "id": "76da16a2",
   "metadata": {},
   "source": [
    "verifying the values"
   ]
  },
  {
   "cell_type": "code",
   "execution_count": 758,
   "id": "345229a8",
   "metadata": {},
   "outputs": [
    {
     "data": {
      "text/plain": [
       "(array([2.8703359 , 2.85061269, 2.97511223, ..., 2.92279789, 2.99201277,\n",
       "        2.94261017]),\n",
       " array([2.79522685, 2.74734667, 2.58377354, ..., 2.68192023, 2.69011317,\n",
       "        2.82233377]),\n",
       " array([2.82163803, 2.72604557, 2.54540897, ..., 2.96550163, 3.06816735,\n",
       "        2.88011043]))"
      ]
     },
     "execution_count": 758,
     "metadata": {},
     "output_type": "execute_result"
    }
   ],
   "source": [
    "y_train, y_val, y_test"
   ]
  },
  {
   "cell_type": "markdown",
   "id": "161599c8",
   "metadata": {},
   "source": [
    "remove the 'fuel_efficiency_mpg' column from each data frame to prevent its misuse and"
   ]
  },
  {
   "cell_type": "code",
   "execution_count": 759,
   "id": "35d60c35",
   "metadata": {},
   "outputs": [],
   "source": [
    "del df_train['fuel_efficiency_mpg']\n",
    "del df_val['fuel_efficiency_mpg']\n",
    "del df_test['fuel_efficiency_mpg']"
   ]
  },
  {
   "cell_type": "markdown",
   "id": "bd5c8c1e",
   "metadata": {},
   "source": [
    "# Question 3\n",
    "\n",
    "We need to deal with missing values for the column from Q1.\n",
    "\n",
    "We have two options: \n",
    "\n",
    "- fill it with 0 or \n",
    "- with the mean of this variable.\n",
    "\n",
    "Try both options.\n",
    "\n",
    "For each, train a linear regression model without regularization using the code from the lessons.\n",
    "\n",
    "For computing the mean, use the training only!\n",
    "\n",
    "Use the validation dataset to evaluate the models and compare the RMSE of each option.\n",
    "\n",
    "Round the RMSE scores to 2 decimal digits using round(score, 2)\n",
    "\n",
    "Which option gives better RMSE?"
   ]
  },
  {
   "cell_type": "markdown",
   "id": "8a76d16c",
   "metadata": {},
   "source": [
    "Searching for missing values ​​in the 'horsepower' column"
   ]
  },
  {
   "cell_type": "code",
   "execution_count": 762,
   "id": "6db907bf",
   "metadata": {},
   "outputs": [
    {
     "data": {
      "text/plain": [
       "(np.int64(429), np.int64(136), np.int64(143))"
      ]
     },
     "execution_count": 762,
     "metadata": {},
     "output_type": "execute_result"
    }
   ],
   "source": [
    "df_train.horsepower.isnull().sum(), df_val.horsepower.isnull().sum(), df_test.horsepower.isnull().sum()"
   ]
  },
  {
   "cell_type": "markdown",
   "id": "7890604b",
   "metadata": {},
   "source": [
    "filling missing values with zeros and the mean of horsepower column"
   ]
  },
  {
   "cell_type": "code",
   "execution_count": 763,
   "id": "03ac1532",
   "metadata": {},
   "outputs": [],
   "source": [
    "base = ['engine_displacement','horsepower','vehicle_weight','model_year']\n",
    "X_train_zeros = df_train[base].fillna(0).values\n",
    "X_train_mean = df_train[base].fillna(df_train.horsepower.mean()).values"
   ]
  },
  {
   "cell_type": "markdown",
   "id": "699d4662",
   "metadata": {},
   "source": [
    "'For computing the mean, use the training only!'"
   ]
  },
  {
   "cell_type": "markdown",
   "id": "6712c3dd",
   "metadata": {},
   "source": [
    "checking that columns are numerical"
   ]
  },
  {
   "cell_type": "code",
   "execution_count": 764,
   "id": "a5267544",
   "metadata": {},
   "outputs": [
    {
     "data": {
      "text/plain": [
       "engine_displacement      int64\n",
       "num_cylinders          float64\n",
       "horsepower             float64\n",
       "vehicle_weight         float64\n",
       "acceleration           float64\n",
       "model_year               int64\n",
       "origin                  object\n",
       "fuel_type               object\n",
       "drivetrain              object\n",
       "num_doors              float64\n",
       "dtype: object"
      ]
     },
     "execution_count": 764,
     "metadata": {},
     "output_type": "execute_result"
    }
   ],
   "source": [
    "df_train.dtypes"
   ]
  },
  {
   "cell_type": "markdown",
   "id": "46699bda",
   "metadata": {},
   "source": [
    "taking a look at the shape"
   ]
  },
  {
   "cell_type": "code",
   "execution_count": 765,
   "id": "62a9c5e2",
   "metadata": {},
   "outputs": [
    {
     "data": {
      "text/plain": [
       "((5824, 4), (5824, 4))"
      ]
     },
     "execution_count": 765,
     "metadata": {},
     "output_type": "execute_result"
    }
   ],
   "source": [
    "X_train_zeros.shape, X_train_mean.shape"
   ]
  },
  {
   "cell_type": "markdown",
   "id": "3f3ef4b3",
   "metadata": {},
   "source": [
    "Taking a look at the shape of the first column of the matrix, whose missing values ​​were filled with zeros."
   ]
  },
  {
   "cell_type": "code",
   "execution_count": 766,
   "id": "c63e488f",
   "metadata": {},
   "outputs": [
    {
     "data": {
      "text/plain": [
       "5824"
      ]
     },
     "execution_count": 766,
     "metadata": {},
     "output_type": "execute_result"
    }
   ],
   "source": [
    "X_train_zeros.shape[0]"
   ]
  },
  {
   "cell_type": "markdown",
   "id": "28aa2a7f",
   "metadata": {},
   "source": [
    "taking a look at the values of GRAM Matrix"
   ]
  },
  {
   "cell_type": "code",
   "execution_count": 767,
   "id": "c534403b",
   "metadata": {},
   "outputs": [
    {
     "data": {
      "text/plain": [
       "array([[2.45926600e+08, 1.60732070e+08, 3.49103053e+09, 2.33622676e+09],\n",
       "       [1.60732070e+08, 1.25381178e+08, 2.42349316e+09, 1.62284105e+09],\n",
       "       [3.49103053e+09, 2.42349316e+09, 5.40927359e+10, 3.52219266e+10],\n",
       "       [2.33622676e+09, 1.62284105e+09, 3.52219266e+10, 2.35636378e+10]])"
      ]
     },
     "execution_count": 767,
     "metadata": {},
     "output_type": "execute_result"
    }
   ],
   "source": [
    "xtxz=X_train_zeros.T.dot(X_train_zeros)\n",
    "xtxz\n"
   ]
  },
  {
   "cell_type": "markdown",
   "id": "086eb1d5",
   "metadata": {},
   "source": [
    "taking a look at the inverse ok GRAM Marix"
   ]
  },
  {
   "cell_type": "code",
   "execution_count": 768,
   "id": "fc144492",
   "metadata": {},
   "outputs": [
    {
     "data": {
      "text/plain": [
       "array([[ 6.99418505e-08,  8.57333446e-10,  5.27710913e-11,\n",
       "        -7.07233915e-09],\n",
       "       [ 8.57333446e-10,  7.34769349e-08,  1.15631210e-10,\n",
       "        -5.31823933e-09],\n",
       "       [ 5.27710913e-11,  1.15631210e-10,  6.92503894e-10,\n",
       "        -1.04832105e-09],\n",
       "       [-7.07233915e-09, -5.31823933e-09, -1.04832105e-09,\n",
       "         2.67688430e-09]])"
      ]
     },
     "execution_count": 768,
     "metadata": {},
     "output_type": "execute_result"
    }
   ],
   "source": [
    "xtxz_inv = np.linalg.inv(xtxz)\n",
    "xtxz_inv"
   ]
  },
  {
   "cell_type": "markdown",
   "id": "20faef83",
   "metadata": {},
   "source": [
    "Taking a look at the values in the matrix, whose missing values ​​were filled with the mean(average) value of 'horsepower' column."
   ]
  },
  {
   "cell_type": "code",
   "execution_count": 769,
   "id": "134fb5ec",
   "metadata": {},
   "outputs": [
    {
     "data": {
      "text/plain": [
       "array([[2.45926600e+08, 1.73604883e+08, 3.49103053e+09, 2.33622676e+09],\n",
       "       [1.73604883e+08, 1.34975178e+08, 2.61742080e+09, 1.75188651e+09],\n",
       "       [3.49103053e+09, 2.61742080e+09, 5.40927359e+10, 3.52219266e+10],\n",
       "       [2.33622676e+09, 1.75188651e+09, 3.52219266e+10, 2.35636378e+10]])"
      ]
     },
     "execution_count": 769,
     "metadata": {},
     "output_type": "execute_result"
    }
   ],
   "source": [
    "xtxmean=X_train_mean.T.dot(X_train_mean)\n",
    "xtxmean"
   ]
  },
  {
   "cell_type": "markdown",
   "id": "570dceaa",
   "metadata": {},
   "source": [
    "taking a look at the inverse ok GRAM Marix"
   ]
  },
  {
   "cell_type": "code",
   "execution_count": 770,
   "id": "c6f40177",
   "metadata": {},
   "outputs": [
    {
     "data": {
      "text/plain": [
       "array([[ 6.99397771e-08,  1.29535494e-09,  5.25261409e-11,\n",
       "        -7.10902819e-09],\n",
       "       [ 1.29535494e-09,  2.11593538e-07,  1.80375580e-10,\n",
       "        -1.61293976e-08],\n",
       "       [ 5.25261409e-11,  1.80375580e-10,  6.92475688e-10,\n",
       "        -1.05370141e-09],\n",
       "       [-7.10902819e-09, -1.61293976e-08, -1.05370141e-09,\n",
       "         3.52146686e-09]])"
      ]
     },
     "execution_count": 770,
     "metadata": {},
     "output_type": "execute_result"
    }
   ],
   "source": [
    "xtxmean_inv = np.linalg.inv(xtxmean)\n",
    "xtxmean_inv"
   ]
  },
  {
   "cell_type": "markdown",
   "id": "563252e9",
   "metadata": {},
   "source": [
    "linear regression code"
   ]
  },
  {
   "cell_type": "code",
   "execution_count": 771,
   "id": "f57d7292",
   "metadata": {},
   "outputs": [],
   "source": [
    "def train_linear_regression(X, y):\n",
    "    ones = np.ones(X.shape[0])\n",
    "    X = np.column_stack([ones, X])\n",
    "\n",
    "    XTX = X.T.dot(X)\n",
    "    XTX_inv = np.linalg.inv(XTX)\n",
    "    w_full = XTX_inv.dot(X.T).dot(y)\n",
    "    \n",
    "    return w_full[0], w_full[1:]"
   ]
  },
  {
   "cell_type": "markdown",
   "id": "055933c9",
   "metadata": {},
   "source": [
    "Training the model with the dataframe whose missing values ​​were replaced with zeros"
   ]
  },
  {
   "cell_type": "code",
   "execution_count": 772,
   "id": "426ef431",
   "metadata": {},
   "outputs": [
    {
     "data": {
      "text/plain": [
       "array([2.90981589, 2.84278709, 2.93310627, ..., 2.92329662, 3.00305539,\n",
       "       2.94404905])"
      ]
     },
     "execution_count": 772,
     "metadata": {},
     "output_type": "execute_result"
    }
   ],
   "source": [
    "w0_z, w_z = train_linear_regression(X_train_zeros, y_train)\n",
    "y_pred_zeros = w0_z + X_train_zeros.dot(w_z)\n",
    "y_pred_zeros"
   ]
  },
  {
   "cell_type": "markdown",
   "id": "aadab523",
   "metadata": {},
   "source": [
    "Training the model with the dataframe whose missing values ​​were replaced with the mean(average) of the horsepower column"
   ]
  },
  {
   "cell_type": "code",
   "execution_count": 773,
   "id": "59d27fd9",
   "metadata": {},
   "outputs": [
    {
     "data": {
      "text/plain": [
       "array([2.90493466, 2.83614915, 2.93281288, ..., 2.92153243, 3.00286793,\n",
       "       2.94287685])"
      ]
     },
     "execution_count": 773,
     "metadata": {},
     "output_type": "execute_result"
    }
   ],
   "source": [
    "w0_m, w_m = train_linear_regression(X_train_mean, y_train) \n",
    "y_pred_mean = w0_m + X_train_mean.dot(w_m)\n",
    "\n",
    "y_pred_mean         \n"
   ]
  },
  {
   "cell_type": "markdown",
   "id": "80975ac6",
   "metadata": {},
   "source": [
    "ploting and compare"
   ]
  },
  {
   "cell_type": "code",
   "execution_count": 774,
   "id": "cfa86526",
   "metadata": {},
   "outputs": [
    {
     "data": {
      "text/plain": [
       "<Axes: ylabel='Count'>"
      ]
     },
     "execution_count": 774,
     "metadata": {},
     "output_type": "execute_result"
    },
    {
     "data": {
      "image/png": "[encoded data removed]",
      "text/plain": [
       "<Figure size 640x480 with 1 Axes>"
      ]
     },
     "metadata": {},
     "output_type": "display_data"
    }
   ],
   "source": [
    "sns.histplot(y_pred_zeros, color='red', alpha=0.5, bins=50)\n",
    "sns.histplot(y_train, color='blue', alpha=0.5, bins=50)"
   ]
  },
  {
   "cell_type": "code",
   "execution_count": 775,
   "id": "240755aa",
   "metadata": {},
   "outputs": [
    {
     "data": {
      "text/plain": [
       "<Axes: ylabel='Count'>"
      ]
     },
     "execution_count": 775,
     "metadata": {},
     "output_type": "execute_result"
    },
    {
     "data": {
      "image/png": "[encoded data removed]",
      "text/plain": [
       "<Figure size 640x480 with 1 Axes>"
      ]
     },
     "metadata": {},
     "output_type": "display_data"
    }
   ],
   "source": [
    "sns.histplot(y_pred_mean, color='red', alpha=0.5, bins=50)    \n",
    "sns.histplot(y_train, color='blue', alpha=0.5, bins=50)"
   ]
  },
  {
   "cell_type": "markdown",
   "id": "2cd4b5dc",
   "metadata": {},
   "source": [
    "Response:\n",
    "\n",
    "* Both predictions seem similar but one of them, completed with zero values, looks better, even though it is less in line with reality since a car cannot not have horsepower."
   ]
  },
  {
   "cell_type": "markdown",
   "id": "b0841ef4",
   "metadata": {},
   "source": [
    "'Use the validation dataset to evaluate the models and compare the RMSE of each option.'"
   ]
  },
  {
   "cell_type": "markdown",
   "id": "82b05614",
   "metadata": {},
   "source": [
    "copying rmse function"
   ]
  },
  {
   "cell_type": "code",
   "execution_count": 776,
   "id": "476b4192",
   "metadata": {},
   "outputs": [],
   "source": [
    "def rmse(y, y_pred):\n",
    "    se = (y - y_pred) ** 2\n",
    "    mse = se.mean()\n",
    "    return np.sqrt(mse)"
   ]
  },
  {
   "cell_type": "markdown",
   "id": "1f964563",
   "metadata": {},
   "source": [
    "applying rmse with training dataset"
   ]
  },
  {
   "cell_type": "code",
   "execution_count": 777,
   "id": "5ead2128",
   "metadata": {},
   "outputs": [
    {
     "data": {
      "text/plain": [
       "np.float64(0.0390863253926525)"
      ]
     },
     "execution_count": 777,
     "metadata": {},
     "output_type": "execute_result"
    }
   ],
   "source": [
    "rmse(y_train, y_pred_zeros)"
   ]
  },
  {
   "cell_type": "markdown",
   "id": "5db5fe9c",
   "metadata": {},
   "source": [
    "Copying a function to prepare a dataframes"
   ]
  },
  {
   "cell_type": "code",
   "execution_count": 778,
   "id": "acead6b9",
   "metadata": {},
   "outputs": [],
   "source": [
    "def prepare_X(df):\n",
    "    df_num = df[base] # select numerical columns\n",
    "    df_num = df_num.fillna(0) # fill missing values with 0 \n",
    "    X = df_num.values # get numpy array\n",
    "    return X # return X"
   ]
  },
  {
   "cell_type": "markdown",
   "id": "031f70dd",
   "metadata": {},
   "source": [
    "retraining with df_train"
   ]
  },
  {
   "cell_type": "code",
   "execution_count": 779,
   "id": "c41b4770",
   "metadata": {},
   "outputs": [
    {
     "data": {
      "text/plain": [
       "(np.float64(3.6646662473835203),\n",
       " array([ 2.14827083e-06,  2.21209296e-04, -3.23460699e-04,  1.64673231e-05]))"
      ]
     },
     "execution_count": 779,
     "metadata": {},
     "output_type": "execute_result"
    }
   ],
   "source": [
    "X_train_zeros = prepare_X(df_train)\n",
    "w0_z, w_z = train_linear_regression(X_train_zeros, y_train)\n",
    "w0_z, w_z"
   ]
  },
  {
   "cell_type": "markdown",
   "id": "59ab596e",
   "metadata": {},
   "source": [
    "training validation dataframe"
   ]
  },
  {
   "cell_type": "code",
   "execution_count": 780,
   "id": "f572ab84",
   "metadata": {},
   "outputs": [
    {
     "data": {
      "text/plain": [
       "array([2.82641584, 2.75411816, 2.55686533, ..., 2.6745201 , 2.67029761,\n",
       "       2.85296899])"
      ]
     },
     "execution_count": 780,
     "metadata": {},
     "output_type": "execute_result"
    }
   ],
   "source": [
    "X_val_zeros = prepare_X(df_val)\n",
    "y_pred_val_zeros = w0_z + X_val_zeros.dot(w_z)\n",
    "y_pred_val_zeros"
   ]
  },
  {
   "cell_type": "markdown",
   "id": "26ec3932",
   "metadata": {},
   "source": [
    "rmse to compare"
   ]
  },
  {
   "cell_type": "code",
   "execution_count": 782,
   "id": "ae5b9132",
   "metadata": {},
   "outputs": [
    {
     "data": {
      "text/plain": [
       "np.float64(0.03997925782577713)"
      ]
     },
     "execution_count": 782,
     "metadata": {},
     "output_type": "execute_result"
    }
   ],
   "source": [
    "rmse(y_val, y_pred_val_zeros)"
   ]
  },
  {
   "cell_type": "markdown",
   "id": "017480af",
   "metadata": {},
   "source": [
    "comapring results\n",
    "\n",
    "* rmse(y_train, y_pred_zeros) -> 0.0390863253926525\n",
    "\n",
    "* rmse(y_val, y_pred_val_zeros) -> 0.03997925782577713\n",
    "\n",
    "looks similar"
   ]
  },
  {
   "cell_type": "markdown",
   "id": "8cb91437",
   "metadata": {},
   "source": [
    "Round the RMSE scores to 2 decimal digits using round(score, 2)"
   ]
  },
  {
   "cell_type": "code",
   "execution_count": 783,
   "id": "31dfbe82",
   "metadata": {},
   "outputs": [
    {
     "data": {
      "text/plain": [
       "np.float64(0.04)"
      ]
     },
     "execution_count": 783,
     "metadata": {},
     "output_type": "execute_result"
    }
   ],
   "source": [
    "rmse(y_train, y_pred_zeros).round(2)"
   ]
  },
  {
   "cell_type": "code",
   "execution_count": 784,
   "id": "f037150f",
   "metadata": {},
   "outputs": [
    {
     "data": {
      "text/plain": [
       "np.float64(0.04)"
      ]
     },
     "execution_count": 784,
     "metadata": {},
     "output_type": "execute_result"
    }
   ],
   "source": [
    "rmse(y_val, y_pred_val_zeros).round(2)"
   ]
  },
  {
   "cell_type": "markdown",
   "id": "425e9b1a",
   "metadata": {},
   "source": [
    "Which option gives better RMSE?\n",
    "\n",
    "* Both are equally good"
   ]
  },
  {
   "cell_type": "markdown",
   "id": "c0450cf7",
   "metadata": {},
   "source": [
    "# Question 4\n",
    "\n",
    "Now let's train a regularized linear regression.\n",
    "\n",
    "For this question, fill the NAs with 0.\n",
    "\n",
    "Try different values of r from this list: \n",
    "\n",
    "- [0, 0.01, 0.1, 1, 5, 10, 100].\n",
    "\n",
    "Use RMSE to evaluate the model on the validation dataset.\n",
    "\n",
    "Round the RMSE scores to 2 decimal digits.\n",
    "\n",
    "Which r gives the best RMSE?\n",
    "\n",
    "If there are multiple options, select the smallest r.\n",
    "\n",
    "Options:\n",
    "\n",
    "* 0\n",
    "* 0.01\n",
    "* 1\n",
    "* 10\n",
    "* 100"
   ]
  },
  {
   "cell_type": "code",
   "execution_count": 785,
   "id": "7b2dc31f",
   "metadata": {},
   "outputs": [],
   "source": [
    "def train_linear_regression_reg(X, y, r=0.001):\n",
    "    ones = np.ones(X.shape[0])\n",
    "    X = np.column_stack([ones, X])\n",
    "\n",
    "    XTX = X.T.dot(X)\n",
    "    XTX = XTX + r * np.eye(XTX.shape[0])\n",
    "\n",
    "    XTX_inv = np.linalg.inv(XTX)\n",
    "    w_full = XTX_inv.dot(X.T).dot(y)\n",
    "    \n",
    "    return w_full[0], w_full[1:]"
   ]
  },
  {
   "cell_type": "code",
   "execution_count": 786,
   "id": "d6fc788b",
   "metadata": {},
   "outputs": [
    {
     "data": {
      "text/plain": [
       "np.float64(0.039977872016356185)"
      ]
     },
     "execution_count": 786,
     "metadata": {},
     "output_type": "execute_result"
    }
   ],
   "source": [
    "X_train = prepare_X(df_train)\n",
    "w0, w = train_linear_regression_reg(X_train, y_train, r=0.01)\n",
    "\n",
    "X_val = prepare_X(df_val)\n",
    "y_pred = w0 + X_val.dot(w)\n",
    "rmse(y_val, y_pred)"
   ]
  },
  {
   "cell_type": "code",
   "execution_count": 787,
   "id": "c6538190",
   "metadata": {},
   "outputs": [
    {
     "data": {
      "text/plain": [
       "np.float64(0.039977872016356185)"
      ]
     },
     "execution_count": 787,
     "metadata": {},
     "output_type": "execute_result"
    }
   ],
   "source": [
    "r = 0.01\n",
    "X_train= prepare_X(df_train)\n",
    "w0, w = train_linear_regression_reg(X_train, y_train, r=r)\n",
    "\n",
    "X_val = prepare_X(df_val)\n",
    "y_pred = w0 + X_val.dot(w)\n",
    "score = rmse(y_val, y_pred)\n",
    "score"
   ]
  },
  {
   "cell_type": "code",
   "execution_count": 788,
   "id": "25ea4920",
   "metadata": {},
   "outputs": [
    {
     "data": {
      "text/plain": [
       "np.float64(0.04)"
      ]
     },
     "execution_count": 788,
     "metadata": {},
     "output_type": "execute_result"
    }
   ],
   "source": [
    "score.round(2)"
   ]
  },
  {
   "cell_type": "markdown",
   "id": "7c80c64b",
   "metadata": {},
   "source": [
    "* Try different values of r from this list: [0, 0.01, 0.1, 1, 5, 10, 100]."
   ]
  },
  {
   "cell_type": "code",
   "execution_count": 789,
   "id": "1c609b3f",
   "metadata": {},
   "outputs": [
    {
     "name": "stdout",
     "output_type": "stream",
     "text": [
      "0 3.6646662473835203 0.03997925782577713\n",
      "0.01 3.168813446992994 0.039977872016356185\n",
      "0.1 1.428836998981398 0.04050873984547376\n",
      "1 0.22012861947491924 0.041353851508238566\n",
      "5 0.04624885656830111 0.04150611823273275\n",
      "10 0.023271722731612255 0.04152680123751592\n",
      "100 0.0023413689852454607 0.04154575656081053\n"
     ]
    }
   ],
   "source": [
    "for r in [0, 0.01, 0.1, 1, 5, 10, 100]:\n",
    "    X_train = prepare_X(df_train)\n",
    "    w0, w = train_linear_regression_reg(X_train, y_train, r=r)\n",
    "\n",
    "    X_val = prepare_X(df_val)\n",
    "    y_pred = w0 + X_val.dot(w)\n",
    "    score = rmse(y_val, y_pred)\n",
    "    \n",
    "    print(r, w0, score)"
   ]
  },
  {
   "cell_type": "markdown",
   "id": "d1cdb9b4",
   "metadata": {},
   "source": [
    "Which r gives the best RMSE?\n",
    "\n",
    "If there are multiple options, select the smallest r.\n",
    "\n",
    "Options:\n",
    "\n",
    "* 0\n",
    "* 0.01\n",
    "* 1\n",
    "* 10\n",
    "* 100"
   ]
  },
  {
   "cell_type": "markdown",
   "id": "6b94b170",
   "metadata": {},
   "source": [
    "Response:\n",
    "    \n",
    "*  0.01"
   ]
  },
  {
   "cell_type": "markdown",
   "id": "806296ec",
   "metadata": {},
   "source": [
    "Question 5\n",
    "\n",
    "We used seed 42 for splitting the data. Let's find out how selecting the seed influences our score.\n",
    "\n",
    "Try different seed values: [0, 1, 2, 3, 4, 5, 6, 7, 8, 9].\n",
    "\n",
    "For each seed, do the train/validation/test split with 60%/20%/20% distribution.\n",
    "\n",
    "Fill the missing values with 0 and train a model without regularization.\n",
    "\n",
    "For each seed, evaluate the model on the validation dataset and collect the RMSE scores.\n",
    "\n",
    "What's the standard deviation of all the scores? To compute the standard deviation, use np.std.\n",
    "\n",
    "Round the result to 3 decimal digits (round(std, 3))\n",
    "\n",
    "What's the value of std?\n",
    "\n",
    "* 0.001\n",
    "* 0.006\n",
    "* 0.060\n",
    "* 0.600"
   ]
  },
  {
   "cell_type": "code",
   "execution_count": 790,
   "id": "01e88664",
   "metadata": {},
   "outputs": [],
   "source": [
    "def prepare_X(df):\n",
    "    df_num = df[base] # select numerical columns\n",
    "    df_num = df_num.fillna(0) # fill missing values with 0 \n",
    "    X = df_num.values # get numpy array\n",
    "    return X # return X"
   ]
  },
  {
   "cell_type": "code",
   "execution_count": 791,
   "id": "b528572a",
   "metadata": {},
   "outputs": [
    {
     "name": "stdout",
     "output_type": "stream",
     "text": [
      "0 0.039 0.038\n",
      "1 0.039 0.039\n",
      "2 0.039 0.039\n",
      "3 0.039 0.039\n",
      "4 0.039 0.037\n",
      "5 0.039 0.039\n",
      "6 0.039 0.039\n",
      "7 0.039 0.038\n",
      "8 0.039 0.04\n",
      "9 0.039 0.039\n"
     ]
    }
   ],
   "source": [
    "rmse_scores = []\n",
    "\n",
    "for s in [0, 1, 2, 3, 4, 5, 6, 7, 8, 9]:\n",
    "    idx = np.arange(n)\n",
    "    np.random.seed(s)\n",
    "    np.random.shuffle(idx)\n",
    "\n",
    "    df_train_s = df.iloc[idx[:n_train]].reset_index(drop=True)\n",
    "    df_val_s = df.iloc[idx[n_train:n_train+n_val]].reset_index(drop=True)\n",
    "    df_test_s = df.iloc[idx[n_train+n_val:]].reset_index(drop=True)\n",
    "\n",
    "    y_train_s = np.log1p(df_train_s.fuel_efficiency_mpg.values)\n",
    "    y_val_s = np.log1p(df_val_s.fuel_efficiency_mpg.values)\n",
    "    y_test_s = np.log1p(df_test_s.fuel_efficiency_mpg.values)\n",
    "\n",
    "    df_train_s = df_train_s.drop(columns=['fuel_efficiency_mpg'])\n",
    "    df_val_s = df_val_s.drop(columns=['fuel_efficiency_mpg'])\n",
    "    df_test_s = df_test_s.drop(columns=['fuel_efficiency_mpg'])\n",
    "\n",
    "    X_train_s = df_train_s[base].fillna(0).values\n",
    "    X_val_s = df_val_s[base].fillna(0).values\n",
    "\n",
    "    w0_s, w_s = train_linear_regression(X_train_s, y_train_s)\n",
    "    y_pred_train_s = w0_s + X_train_s.dot(w_s)\n",
    "    y_pred_val_s = w0_s + X_val_s.dot(w_s)\n",
    "\n",
    "    rmse_train = rmse(y_train_s, y_pred_train_s).round(3)\n",
    "    rmse_val = rmse(y_val_s, y_pred_val_s).round(3)\n",
    "    rmse_scores.append(rmse_val)\n",
    "\n",
    "    print(s, rmse_train, rmse_val)\n"
   ]
  },
  {
   "cell_type": "code",
   "execution_count": 792,
   "id": "0f4bf8a1",
   "metadata": {},
   "outputs": [
    {
     "data": {
      "text/plain": [
       "np.float64(0.001)"
      ]
     },
     "execution_count": 792,
     "metadata": {},
     "output_type": "execute_result"
    }
   ],
   "source": [
    "std = np.std(rmse_scores)\n",
    "round(std, 3)"
   ]
  },
  {
   "cell_type": "markdown",
   "id": "846b5ed6",
   "metadata": {},
   "source": [
    "Response:\n",
    "\n",
    "* What's the value of std?\n",
    "\n",
    "* 0.001"
   ]
  },
  {
   "cell_type": "markdown",
   "id": "6ef8f7f6",
   "metadata": {},
   "source": [
    "# Question 6\n",
    "\n",
    "Split the dataset like previously, use seed 9.\n",
    "\n",
    "Combine train and validation datasets.\n",
    "\n",
    "Fill the missing values with 0 and train a model with r=0.001.\n",
    "\n",
    "What's the RMSE on the test dataset?\n",
    "\n",
    "Options:\n",
    "\n",
    "* 0.15\n",
    "* 0.515\n",
    "* 5.15\n",
    "* 51.5"
   ]
  },
  {
   "cell_type": "code",
   "execution_count": 793,
   "id": "589ed588",
   "metadata": {},
   "outputs": [],
   "source": [
    "idx = np.arange(n)\n",
    "np.random.seed(9)\n",
    "np.random.shuffle(idx)\n",
    "\n",
    "df_train_q6 = df.iloc[idx[:n_train]].reset_index(drop=True)\n",
    "df_val_q6 = df.iloc[idx[n_train:n_train+n_val]].reset_index(drop=True)\n",
    "df_test_q6 = df.iloc[idx[n_train+n_val:]].reset_index(drop=True)\n",
    "\n",
    "y_train_q6 = np.log1p(df_train_q6.fuel_efficiency_mpg.values)\n",
    "y_val_q6 = np.log1p(df_val_q6.fuel_efficiency_mpg.values)\n",
    "y_test_q6 = np.log1p(df_test_q6.fuel_efficiency_mpg.values)\n",
    "\n",
    "del df_train_q6['fuel_efficiency_mpg'] \n",
    "del df_val_q6['fuel_efficiency_mpg']\n",
    "del df_test_q6['fuel_efficiency_mpg']"
   ]
  },
  {
   "cell_type": "code",
   "execution_count": 795,
   "id": "379afda7",
   "metadata": {},
   "outputs": [
    {
     "data": {
      "text/plain": [
       "array([[ 240.        ,  136.        , 4050.51228957, 2006.        ],\n",
       "       [ 190.        ,  141.        , 3195.86694158, 2017.        ],\n",
       "       [ 200.        ,  184.        , 3006.16436968, 2017.        ],\n",
       "       ...,\n",
       "       [ 180.        ,  154.        , 3346.96567067, 2018.        ],\n",
       "       [ 210.        ,  152.        , 2500.17568746, 2020.        ],\n",
       "       [ 260.        ,  174.        , 2702.25730066, 2011.        ]])"
      ]
     },
     "execution_count": 795,
     "metadata": {},
     "output_type": "execute_result"
    }
   ],
   "source": [
    "# Combine train and validation sets\n",
    "df_full_train = pd.concat([df_train_q6, df_val_q6]).reset_index(drop=True)\n",
    "\n",
    "# Prepare features (fill NAs with 0)\n",
    "X_full_train = prepare_X(df_full_train)\n",
    "X_full_train"
   ]
  },
  {
   "cell_type": "code",
   "execution_count": 796,
   "id": "52a926a1",
   "metadata": {},
   "outputs": [
    {
     "data": {
      "text/plain": [
       "array([2.42521856, 2.67272928, 2.8443658 , ..., 2.68635934, 2.92279789,\n",
       "       2.83726248])"
      ]
     },
     "execution_count": 796,
     "metadata": {},
     "output_type": "execute_result"
    }
   ],
   "source": [
    "y_full_train = np.concatenate([y_train_q6, y_val_q6])\n",
    "y_full_train\n"
   ]
  },
  {
   "cell_type": "code",
   "execution_count": 797,
   "id": "89013c70",
   "metadata": {},
   "outputs": [
    {
     "data": {
      "text/plain": [
       "(np.float64(3.530349564153534),\n",
       " array([-4.61531179e-06,  2.26072564e-04, -3.22539112e-04,  8.22789123e-05]))"
      ]
     },
     "execution_count": 797,
     "metadata": {},
     "output_type": "execute_result"
    }
   ],
   "source": [
    "# Train regularized linear regression with r=0.001\n",
    "w0_full, w_full = train_linear_regression_reg(X_full_train, y_full_train, r=0.001)\n",
    "w0_full, w_full"
   ]
  },
  {
   "cell_type": "code",
   "execution_count": 798,
   "id": "5b16515f",
   "metadata": {},
   "outputs": [
    {
     "name": "stdout",
     "output_type": "stream",
     "text": [
      "100 0.0023413689852454607 0.03967223909896031\n"
     ]
    }
   ],
   "source": [
    "# Prepare validation features\n",
    "X_test = prepare_X(df_test)\n",
    "y_pred = w0 + X_test.dot(w)\n",
    "score = rmse(y_test, y_pred)\n",
    "\n",
    "print(r, w0, score)\n"
   ]
  },
  {
   "cell_type": "code",
   "execution_count": 800,
   "id": "542ce876",
   "metadata": {},
   "outputs": [
    {
     "data": {
      "text/plain": [
       "np.float64(0.03967223909896031)"
      ]
     },
     "execution_count": 800,
     "metadata": {},
     "output_type": "execute_result"
    }
   ],
   "source": [
    "rmse(y_pred, y_test)"
   ]
  },
  {
   "cell_type": "markdown",
   "id": "546379d4",
   "metadata": {},
   "source": [
    "What's the RMSE on the test dataset?\n",
    "\n",
    "Options:\n",
    "\n",
    "* 0.15 --> The closest RMSE was 0.03967223909896031\n"
   ]
  },
  {
   "cell_type": "markdown",
   "id": "c3be3a82",
   "metadata": {},
   "source": [
    "Checking the efficiency of the prediction by comparing it with the original"
   ]
  },
  {
   "cell_type": "code",
   "execution_count": 807,
   "id": "9c5932e9",
   "metadata": {},
   "outputs": [
    {
     "data": {
      "text/plain": [
       "{'engine_displacement': 180,\n",
       " 'num_cylinders': 3.0,\n",
       " 'horsepower': 188.0,\n",
       " 'vehicle_weight': 3680.3413805868554,\n",
       " 'acceleration': 18.0,\n",
       " 'model_year': 2016,\n",
       " 'origin': 'Asia',\n",
       " 'fuel_type': 'Gasoline',\n",
       " 'drivetrain': 'Front-wheel drive',\n",
       " 'num_doors': 1.0}"
      ]
     },
     "execution_count": 807,
     "metadata": {},
     "output_type": "execute_result"
    }
   ],
   "source": [
    "car = df_test.iloc[5].to_dict()\n",
    "car"
   ]
  },
  {
   "cell_type": "code",
   "execution_count": 808,
   "id": "5c2ad037",
   "metadata": {},
   "outputs": [
    {
     "data": {
      "text/html": [
       "<div>\n",
       "<style scoped>\n",
       "    .dataframe tbody tr th:only-of-type {\n",
       "        vertical-align: middle;\n",
       "    }\n",
       "\n",
       "    .dataframe tbody tr th {\n",
       "        vertical-align: top;\n",
       "    }\n",
       "\n",
       "    .dataframe thead th {\n",
       "        text-align: right;\n",
       "    }\n",
       "</style>\n",
       "<table border=\"1\" class=\"dataframe\">\n",
       "  <thead>\n",
       "    <tr style=\"text-align: right;\">\n",
       "      <th></th>\n",
       "      <th>engine_displacement</th>\n",
       "      <th>num_cylinders</th>\n",
       "      <th>horsepower</th>\n",
       "      <th>vehicle_weight</th>\n",
       "      <th>acceleration</th>\n",
       "      <th>model_year</th>\n",
       "      <th>origin</th>\n",
       "      <th>fuel_type</th>\n",
       "      <th>drivetrain</th>\n",
       "      <th>num_doors</th>\n",
       "    </tr>\n",
       "  </thead>\n",
       "  <tbody>\n",
       "    <tr>\n",
       "      <th>0</th>\n",
       "      <td>180</td>\n",
       "      <td>3.0</td>\n",
       "      <td>188.0</td>\n",
       "      <td>3680.341381</td>\n",
       "      <td>18.0</td>\n",
       "      <td>2016</td>\n",
       "      <td>Asia</td>\n",
       "      <td>Gasoline</td>\n",
       "      <td>Front-wheel drive</td>\n",
       "      <td>1.0</td>\n",
       "    </tr>\n",
       "  </tbody>\n",
       "</table>\n",
       "</div>"
      ],
      "text/plain": [
       "   engine_displacement  num_cylinders  horsepower  vehicle_weight  \\\n",
       "0                  180            3.0       188.0     3680.341381   \n",
       "\n",
       "   acceleration  model_year origin fuel_type         drivetrain  num_doors  \n",
       "0          18.0        2016   Asia  Gasoline  Front-wheel drive        1.0  "
      ]
     },
     "execution_count": 808,
     "metadata": {},
     "output_type": "execute_result"
    }
   ],
   "source": [
    "df_small = pd.DataFrame([car])\n",
    "df_small"
   ]
  },
  {
   "cell_type": "code",
   "execution_count": 809,
   "id": "374fe807",
   "metadata": {},
   "outputs": [],
   "source": [
    "X_small =  prepare_X(df_small)"
   ]
  },
  {
   "cell_type": "code",
   "execution_count": 810,
   "id": "a1c765a7",
   "metadata": {},
   "outputs": [
    {
     "data": {
      "text/plain": [
       "np.float64(2.558015508251228)"
      ]
     },
     "execution_count": 810,
     "metadata": {},
     "output_type": "execute_result"
    }
   ],
   "source": [
    "# Predict on test set\n",
    "y_pred = w0 + X_small.dot(w)\n",
    "y_pred =y_pred[0]\n",
    "y_pred\n",
    "\n"
   ]
  },
  {
   "cell_type": "code",
   "execution_count": 811,
   "id": "b1f6f906",
   "metadata": {},
   "outputs": [
    {
     "data": {
      "text/plain": [
       "np.float64(11.91017174794187)"
      ]
     },
     "execution_count": 811,
     "metadata": {},
     "output_type": "execute_result"
    }
   ],
   "source": [
    "np.expm1(y_pred)"
   ]
  },
  {
   "cell_type": "code",
   "execution_count": 812,
   "id": "7bbb0e23",
   "metadata": {},
   "outputs": [
    {
     "data": {
      "text/plain": [
       "np.float64(11.711652790836235)"
      ]
     },
     "execution_count": 812,
     "metadata": {},
     "output_type": "execute_result"
    }
   ],
   "source": [
    "np.expm1(y_test[5])"
   ]
  },
  {
   "cell_type": "markdown",
   "id": "4c670658",
   "metadata": {},
   "source": [
    "The prediction is quite close to the original efficiency recorded in the dataset."
   ]
  }
 ],
 "metadata": {
  "kernelspec": {
   "display_name": "Python 3",
   "language": "python",
   "name": "python3"
  },
  "language_info": {
   "codemirror_mode": {
    "name": "ipython",
    "version": 3
   },
   "file_extension": ".py",
   "mimetype": "text/x-python",
   "name": "python",
   "nbconvert_exporter": "python",
   "pygments_lexer": "ipython3",
   "version": "3.12.10"
  }
 },
 "nbformat": 4,
 "nbformat_minor": 5
}
