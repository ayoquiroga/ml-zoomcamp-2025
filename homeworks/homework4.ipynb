{
 "cells": [
  {
   "cell_type": "markdown",
   "id": "514dbf51",
   "metadata": {},
   "source": [
    "## Homework\n",
    "> Note: sometimes your answer doesn't match one of \n",
    "> the options exactly. That's fine. \n",
    "> Select the option that's closest to your solution.\n",
    "\n",
    "In this homework, we will use the lead scoring dataset Bank Marketing dataset. Download it from [here](https://raw.githubusercontent.com/alexeygrigorev/datasets/master/course_lead_scoring.csv).\n",
    "\n",
    "In this dataset our desired target for classification task will be `converted` variable - has the client signed up to the platform or not. \n"
   ]
  },
  {
   "cell_type": "code",
   "execution_count": 627,
   "id": "658d8f49",
   "metadata": {},
   "outputs": [
    {
     "data": {
      "application/javascript": "IPython.notebook.set_autosave_interval(0)"
     },
     "metadata": {},
     "output_type": "display_data"
    },
    {
     "name": "stdout",
     "output_type": "stream",
     "text": [
      "Autosave disabled\n"
     ]
    }
   ],
   "source": [
    "%autosave 0"
   ]
  },
  {
   "cell_type": "code",
   "execution_count": 628,
   "id": "a86c7c5c",
   "metadata": {},
   "outputs": [
    {
     "name": "stderr",
     "output_type": "stream",
     "text": [
      "--2025-10-20 19:53:16--  https://raw.githubusercontent.com/alexeygrigorev/datasets/master/course_lead_scoring.csv\n",
      "Resolving raw.githubusercontent.com (raw.githubusercontent.com)... 185.199.110.133, 185.199.111.133, 185.199.108.133, ...\n",
      "Connecting to raw.githubusercontent.com (raw.githubusercontent.com)|185.199.110.133|:443... connected.\n",
      "HTTP request sent, awaiting response... 200 OK\n",
      "Length: 80876 (79K) [text/plain]\n",
      "Saving to: 'course_lead_scoring.csv'\n",
      "\n",
      "     0K .......... .......... .......... .......... .......... 63% 1,73M 0s\n",
      "    50K .......... .......... ........                        100% 2,88M=0,04s\n",
      "\n",
      "2025-10-20 19:53:16 (2,03 MB/s) - 'course_lead_scoring.csv' saved [80876/80876]\n",
      "\n"
     ]
    }
   ],
   "source": [
    "data = 'https://raw.githubusercontent.com/alexeygrigorev/datasets/master/course_lead_scoring.csv'\n",
    "!wget $data -O course_lead_scoring.csv"
   ]
  },
  {
   "cell_type": "code",
   "execution_count": 629,
   "id": "0aa15d9c",
   "metadata": {},
   "outputs": [],
   "source": [
    "import pandas as pd\n",
    "import numpy as np\n",
    "\n",
    "import matplotlib.pyplot as plt"
   ]
  },
  {
   "cell_type": "code",
   "execution_count": 630,
   "id": "28177bb0",
   "metadata": {},
   "outputs": [],
   "source": [
    "from sklearn.model_selection import train_test_split\n",
    "from sklearn.feature_extraction import DictVectorizer\n",
    "from sklearn.linear_model import LogisticRegression"
   ]
  },
  {
   "cell_type": "markdown",
   "id": "a6d260b5",
   "metadata": {},
   "source": [
    "### Data preparation\n",
    "\n",
    "* Check if the missing values are presented in the features.\n",
    "* If there are missing values:\n",
    "    * For caterogiral features, replace them with 'NA'\n",
    "    * For numerical features, replace with with 0.0 \n",
    "\n",
    "\n",
    "Split the data into 3 parts: train/validation/test with 60%/20%/20% distribution. Use `train_test_split` function for that with `random_state=1`"
   ]
  },
  {
   "cell_type": "code",
   "execution_count": 631,
   "id": "49211455",
   "metadata": {},
   "outputs": [
    {
     "data": {
      "text/html": [
       "<div>\n",
       "<style scoped>\n",
       "    .dataframe tbody tr th:only-of-type {\n",
       "        vertical-align: middle;\n",
       "    }\n",
       "\n",
       "    .dataframe tbody tr th {\n",
       "        vertical-align: top;\n",
       "    }\n",
       "\n",
       "    .dataframe thead th {\n",
       "        text-align: right;\n",
       "    }\n",
       "</style>\n",
       "<table border=\"1\" class=\"dataframe\">\n",
       "  <thead>\n",
       "    <tr style=\"text-align: right;\">\n",
       "      <th></th>\n",
       "      <th>lead_source</th>\n",
       "      <th>industry</th>\n",
       "      <th>number_of_courses_viewed</th>\n",
       "      <th>annual_income</th>\n",
       "      <th>employment_status</th>\n",
       "      <th>location</th>\n",
       "      <th>interaction_count</th>\n",
       "      <th>lead_score</th>\n",
       "      <th>converted</th>\n",
       "    </tr>\n",
       "  </thead>\n",
       "  <tbody>\n",
       "    <tr>\n",
       "      <th>0</th>\n",
       "      <td>paid_ads</td>\n",
       "      <td>NaN</td>\n",
       "      <td>1</td>\n",
       "      <td>79450.0</td>\n",
       "      <td>unemployed</td>\n",
       "      <td>south_america</td>\n",
       "      <td>4</td>\n",
       "      <td>0.94</td>\n",
       "      <td>1</td>\n",
       "    </tr>\n",
       "    <tr>\n",
       "      <th>1</th>\n",
       "      <td>social_media</td>\n",
       "      <td>retail</td>\n",
       "      <td>1</td>\n",
       "      <td>46992.0</td>\n",
       "      <td>employed</td>\n",
       "      <td>south_america</td>\n",
       "      <td>1</td>\n",
       "      <td>0.80</td>\n",
       "      <td>0</td>\n",
       "    </tr>\n",
       "    <tr>\n",
       "      <th>2</th>\n",
       "      <td>events</td>\n",
       "      <td>healthcare</td>\n",
       "      <td>5</td>\n",
       "      <td>78796.0</td>\n",
       "      <td>unemployed</td>\n",
       "      <td>australia</td>\n",
       "      <td>3</td>\n",
       "      <td>0.69</td>\n",
       "      <td>1</td>\n",
       "    </tr>\n",
       "    <tr>\n",
       "      <th>3</th>\n",
       "      <td>paid_ads</td>\n",
       "      <td>retail</td>\n",
       "      <td>2</td>\n",
       "      <td>83843.0</td>\n",
       "      <td>NaN</td>\n",
       "      <td>australia</td>\n",
       "      <td>1</td>\n",
       "      <td>0.87</td>\n",
       "      <td>0</td>\n",
       "    </tr>\n",
       "    <tr>\n",
       "      <th>4</th>\n",
       "      <td>referral</td>\n",
       "      <td>education</td>\n",
       "      <td>3</td>\n",
       "      <td>85012.0</td>\n",
       "      <td>self_employed</td>\n",
       "      <td>europe</td>\n",
       "      <td>3</td>\n",
       "      <td>0.62</td>\n",
       "      <td>1</td>\n",
       "    </tr>\n",
       "  </tbody>\n",
       "</table>\n",
       "</div>"
      ],
      "text/plain": [
       "    lead_source    industry  number_of_courses_viewed  annual_income  \\\n",
       "0      paid_ads         NaN                         1        79450.0   \n",
       "1  social_media      retail                         1        46992.0   \n",
       "2        events  healthcare                         5        78796.0   \n",
       "3      paid_ads      retail                         2        83843.0   \n",
       "4      referral   education                         3        85012.0   \n",
       "\n",
       "  employment_status       location  interaction_count  lead_score  converted  \n",
       "0        unemployed  south_america                  4        0.94          1  \n",
       "1          employed  south_america                  1        0.80          0  \n",
       "2        unemployed      australia                  3        0.69          1  \n",
       "3               NaN      australia                  1        0.87          0  \n",
       "4     self_employed         europe                  3        0.62          1  "
      ]
     },
     "execution_count": 631,
     "metadata": {},
     "output_type": "execute_result"
    }
   ],
   "source": [
    "df = pd.read_csv('course_lead_scoring.csv')\n",
    "df.head()"
   ]
  },
  {
   "cell_type": "code",
   "execution_count": 632,
   "id": "ac481b32",
   "metadata": {},
   "outputs": [
    {
     "data": {
      "text/plain": [
       "lead_source                  object\n",
       "industry                     object\n",
       "number_of_courses_viewed      int64\n",
       "annual_income               float64\n",
       "employment_status            object\n",
       "location                     object\n",
       "interaction_count             int64\n",
       "lead_score                  float64\n",
       "converted                     int64\n",
       "dtype: object"
      ]
     },
     "execution_count": 632,
     "metadata": {},
     "output_type": "execute_result"
    }
   ],
   "source": [
    "df.dtypes"
   ]
  },
  {
   "cell_type": "code",
   "execution_count": 633,
   "id": "1b07a9e0",
   "metadata": {},
   "outputs": [
    {
     "data": {
      "text/plain": [
       "Index(['lead_source', 'industry', 'number_of_courses_viewed', 'annual_income',\n",
       "       'employment_status', 'location', 'interaction_count', 'lead_score',\n",
       "       'converted'],\n",
       "      dtype='object')"
      ]
     },
     "execution_count": 633,
     "metadata": {},
     "output_type": "execute_result"
    }
   ],
   "source": [
    "df.columns"
   ]
  },
  {
   "cell_type": "code",
   "execution_count": 634,
   "id": "a627c9c7",
   "metadata": {},
   "outputs": [
    {
     "name": "stdout",
     "output_type": "stream",
     "text": [
      "number_of_courses_viewed      0\n",
      "annual_income               181\n",
      "interaction_count             0\n",
      "lead_score                    0\n",
      "dtype: int64\n",
      "---------------------------\n",
      "lead_source          128\n",
      "industry             134\n",
      "employment_status    100\n",
      "location              63\n",
      "dtype: int64\n"
     ]
    }
   ],
   "source": [
    "numerical = ['number_of_courses_viewed', 'annual_income', 'interaction_count', 'lead_score']\n",
    "categorical = ['lead_source', 'industry', 'employment_status', 'location']\n",
    "\n",
    "print(df[numerical].isnull().sum())\n",
    "print('---------------------------')\n",
    "print(df[categorical].isnull().sum())"
   ]
  },
  {
   "cell_type": "code",
   "execution_count": 635,
   "id": "d90c7d99",
   "metadata": {},
   "outputs": [
    {
     "data": {
      "text/plain": [
       "lead_source                 128\n",
       "industry                    134\n",
       "number_of_courses_viewed      0\n",
       "annual_income               181\n",
       "employment_status           100\n",
       "location                     63\n",
       "interaction_count             0\n",
       "lead_score                    0\n",
       "converted                     0\n",
       "dtype: int64"
      ]
     },
     "execution_count": 635,
     "metadata": {},
     "output_type": "execute_result"
    }
   ],
   "source": [
    "df.isnull().sum()"
   ]
  },
  {
   "cell_type": "code",
   "execution_count": 636,
   "id": "b3fb824e",
   "metadata": {},
   "outputs": [
    {
     "name": "stdout",
     "output_type": "stream",
     "text": [
      "lead_source\n",
      "['paid_ads' 'social_media' 'events' 'referral' 'organic_search' nan]\n",
      "5\n",
      "\n",
      "industry\n",
      "[nan 'retail' 'healthcare' 'education' 'manufacturing' 'technology'\n",
      " 'other' 'finance']\n",
      "7\n",
      "\n",
      "number_of_courses_viewed\n",
      "[1 5 2 3 0 4 6 8 7 9]\n",
      "10\n",
      "\n",
      "annual_income\n",
      "[79450. 46992. 78796. 83843. 85012. 59904. 51283. 62975. 38648. 59866.]\n",
      "1267\n",
      "\n",
      "employment_status\n",
      "['unemployed' 'employed' nan 'self_employed' 'student']\n",
      "4\n",
      "\n",
      "location\n",
      "['south_america' 'australia' 'europe' 'africa' 'middle_east' nan\n",
      " 'north_america' 'asia']\n",
      "7\n",
      "\n",
      "interaction_count\n",
      "[4 1 3 6 2 0 5 7 9 8]\n",
      "12\n",
      "\n",
      "lead_score\n",
      "[0.94 0.8  0.69 0.87 0.62 0.83 0.57 0.86 0.43 0.92]\n",
      "101\n",
      "\n",
      "converted\n",
      "[1 0]\n",
      "2\n",
      "\n"
     ]
    }
   ],
   "source": [
    "for col in df.columns:\n",
    "    print(col)\n",
    "    print(df[col].unique()[:10])\n",
    "    print(df[col].nunique())\n",
    "    print()"
   ]
  },
  {
   "cell_type": "code",
   "execution_count": 637,
   "id": "fa154f7f",
   "metadata": {},
   "outputs": [
    {
     "data": {
      "text/plain": [
       "((1462, 9), 1462)"
      ]
     },
     "execution_count": 637,
     "metadata": {},
     "output_type": "execute_result"
    }
   ],
   "source": [
    "df.shape, len(df)"
   ]
  },
  {
   "cell_type": "code",
   "execution_count": 638,
   "id": "271149d0",
   "metadata": {},
   "outputs": [],
   "source": [
    "for c in categorical:\n",
    "    df[c] = df[c].str.lower().str.replace(' ', '_')"
   ]
  },
  {
   "cell_type": "code",
   "execution_count": 639,
   "id": "bfd976c0",
   "metadata": {},
   "outputs": [],
   "source": [
    "df['annual_income'] = df['annual_income'].fillna(0.0)\n",
    "df[categorical] = df[categorical].fillna('NA')"
   ]
  },
  {
   "cell_type": "code",
   "execution_count": 640,
   "id": "53395765",
   "metadata": {},
   "outputs": [
    {
     "name": "stdout",
     "output_type": "stream",
     "text": [
      "---------------------------\n",
      "lead_source                 0\n",
      "industry                    0\n",
      "number_of_courses_viewed    0\n",
      "annual_income               0\n",
      "employment_status           0\n",
      "location                    0\n",
      "interaction_count           0\n",
      "lead_score                  0\n",
      "converted                   0\n",
      "dtype: int64\n",
      "---------------------------\n",
      "number_of_courses_viewed    0\n",
      "annual_income               0\n",
      "interaction_count           0\n",
      "lead_score                  0\n",
      "dtype: int64\n",
      "---------------------------\n",
      "lead_source          0\n",
      "industry             0\n",
      "employment_status    0\n",
      "location             0\n",
      "dtype: int64\n"
     ]
    }
   ],
   "source": [
    "#verify if NaN values are filled\n",
    "print('---------------------------')\n",
    "print(df.isnull().sum())\n",
    "print('---------------------------')\n",
    "print(df[numerical].isnull().sum())\n",
    "print('---------------------------')\n",
    "print(df[categorical].isnull().sum())"
   ]
  },
  {
   "cell_type": "code",
   "execution_count": 641,
   "id": "51103c26",
   "metadata": {},
   "outputs": [
    {
     "data": {
      "text/plain": [
       "np.int64(0)"
      ]
     },
     "execution_count": 641,
     "metadata": {},
     "output_type": "execute_result"
    }
   ],
   "source": [
    "df['converted'].isnull().sum()"
   ]
  },
  {
   "cell_type": "code",
   "execution_count": 642,
   "id": "f200f0ae",
   "metadata": {},
   "outputs": [
    {
     "name": "stdout",
     "output_type": "stream",
     "text": [
      "Number of records in each dataset:\n",
      "---------------------------\n",
      "Training set: 876\n",
      "Validation set: 293\n",
      "Test set: 293\n",
      "---------------------------\n",
      "Y train: 876\n",
      "Y val: 293\n",
      "Y test: 293\n",
      "---------------------------\n",
      "Total Records DF: 1462\n",
      "---------------------------\n",
      "df_train Shape: (876, 8)\n",
      "df_val Shape:  (293, 8)\n",
      "df_test Shape:  (293, 8)\n",
      "y_train Shape: (876,)\n",
      "y_val Shape:  (293,)\n",
      "y_test Shape: (293,)\n"
     ]
    }
   ],
   "source": [
    "df_full_train, df_test = train_test_split(df, test_size=0.2, random_state=1)\n",
    "df_train, df_val = train_test_split(df_full_train, test_size=0.25, random_state=1)\n",
    "\n",
    "df_train = df_train.reset_index(drop=True)\n",
    "df_val = df_val.reset_index(drop=True)\n",
    "df_test = df_test.reset_index(drop=True)\n",
    "\n",
    "y_train = df_train.converted.values\n",
    "y_val = df_val.converted.values\n",
    "y_test = df_test.converted.values\n",
    "\n",
    "del df_train['converted']\n",
    "del df_val['converted']\n",
    "del df_test['converted']\n",
    "\n",
    "print('Number of records in each dataset:')\n",
    "print('---------------------------')\n",
    "print('Training set:', len(df_train))\n",
    "print('Validation set:', len(df_val))\n",
    "print('Test set:', len(df_test))  \n",
    "print('---------------------------')\n",
    "print('Y train:', len(y_train))\n",
    "print('Y val:', len(y_val)) \n",
    "print('Y test:' , len(y_test))\n",
    "print('---------------------------')\n",
    "print('Total Records DF:', len(df))\n",
    "print('---------------------------')\n",
    "print('df_train Shape:', df_train.shape)\n",
    "print('df_val Shape: ', df_val.shape)\n",
    "print('df_test Shape: ',df_test.shape)\n",
    "print('y_train Shape:', y_train.shape)\n",
    "print('y_val Shape: ', y_val.shape)\n",
    "print('y_test Shape:', y_test.shape)"
   ]
  },
  {
   "cell_type": "markdown",
   "id": "0c03cdfd",
   "metadata": {},
   "source": [
    "### Question 1: ROC AUC feature importance\n",
    "\n",
    "ROC AUC could also be used to evaluate feature importance of numerical variables. \n",
    "\n",
    "Let's do that\n",
    "\n",
    "* For each numerical variable, use it as score (aka prediction) and compute the AUC with the `y` variable as ground truth.\n",
    "* Use the training dataset for that\n",
    "\n",
    "\n",
    "If your AUC is < 0.5, invert this variable by putting \"-\" in front\n",
    "\n",
    "(e.g. `-df_train['balance']`)\n",
    "\n",
    "AUC can go below 0.5 if the variable is negatively correlated with the target variable. You can change the direction of the correlation by negating this variable - then negative correlation becomes positive.\n",
    "\n",
    "Which numerical variable (among the following 4) has the highest AUC?\n",
    "\n",
    "- `lead_score`\n",
    "- `number_of_courses_viewed`\n",
    "- `interaction_count`\n",
    "- `annual_income`"
   ]
  },
  {
   "cell_type": "code",
   "execution_count": 643,
   "id": "49ef3d57",
   "metadata": {},
   "outputs": [],
   "source": [
    "from sklearn.metrics import roc_auc_score"
   ]
  },
  {
   "cell_type": "code",
   "execution_count": 644,
   "id": "2dd2cfbb",
   "metadata": {},
   "outputs": [
    {
     "name": "stdout",
     "output_type": "stream",
     "text": [
      "number_of_courses_viewed: 0.764\n",
      "annual_income: 0.552\n",
      "interaction_count: 0.738\n",
      "lead_score: 0.614\n"
     ]
    }
   ],
   "source": [
    "# compute ROC AUC for each numerical feature using the training set\n",
    "for col in numerical:\n",
    "\tscores = df_train[col].values\n",
    "\tauc = roc_auc_score(y_train, scores)\n",
    "\tif auc < 0.5:\n",
    "\t\tauc = roc_auc_score(y_train, -scores)\n",
    "\t\tprint(f\"{col}: {auc:.3f} (inverted)\")\n",
    "\telse:\n",
    "\t\tprint(f\"{col}: {auc:.3f}\")"
   ]
  },
  {
   "cell_type": "markdown",
   "id": "4fd90451",
   "metadata": {},
   "source": [
    "Q1 - Response:\n",
    "- `number_of_courses_viewed`"
   ]
  },
  {
   "cell_type": "markdown",
   "id": "d0da16d8",
   "metadata": {},
   "source": [
    "### Question 2: Training the model\n",
    "\n",
    "Apply one-hot-encoding using `DictVectorizer` and train the logistic regression with these parameters:\n",
    "\n",
    "```python\n",
    "LogisticRegression(solver='liblinear', C=1.0, max_iter=1000)\n",
    "```\n",
    "\n",
    "What's the AUC of this model on the validation dataset? (round to 3 digits)\n",
    "\n",
    "- 0.32\n",
    "- 0.52\n",
    "- 0.72\n",
    "- 0.92"
   ]
  },
  {
   "cell_type": "code",
   "execution_count": 645,
   "id": "483939dc",
   "metadata": {},
   "outputs": [
    {
     "name": "stdout",
     "output_type": "stream",
     "text": [
      "Validation AUC: 0.817\n"
     ]
    }
   ],
   "source": [
    "# prepare data as lists of dicts\n",
    "train_dicts = df_train.to_dict(orient='records')\n",
    "val_dicts = df_val.to_dict(orient='records')\n",
    "\n",
    "# fit DictVectorizer\n",
    "dv = DictVectorizer(sparse=False)\n",
    "X_train = dv.fit_transform(train_dicts)\n",
    "X_val = dv.transform(val_dicts)\n",
    "\n",
    "# train logistic regression\n",
    "model = LogisticRegression(solver='liblinear', C=1.0, max_iter=1000)\n",
    "model.fit(X_train, y_train)\n",
    "\n",
    "# predict probabilities on validation set and compute AUC\n",
    "y_val_pred = model.predict_proba(X_val)[:, 1]\n",
    "auc = roc_auc_score(y_val, y_val_pred)\n",
    "\n",
    "print('Validation AUC: {:.3f}'.format(auc))"
   ]
  },
  {
   "cell_type": "markdown",
   "id": "10190c3b",
   "metadata": {},
   "source": [
    "### Question 3: Precision and Recall\n",
    "\n",
    "Now let's compute precision and recall for our model.\n",
    "\n",
    "* Evaluate the model on all thresholds from 0.0 to 1.0 with step 0.01\n",
    "* For each threshold, compute precision and recall\n",
    "* Plot them\n",
    "\n",
    "At which threshold precision and recall curves intersect?\n",
    "\n",
    "* 0.145\n",
    "* 0.345\n",
    "* 0.545\n",
    "* 0.745\n"
   ]
  },
  {
   "cell_type": "code",
   "execution_count": 647,
   "id": "1c36df05",
   "metadata": {},
   "outputs": [
    {
     "name": "stdout",
     "output_type": "stream",
     "text": [
      "Threshold where precision and recall intersect (closest): 0.980\n"
     ]
    }
   ],
   "source": [
    "# calculate precision and recall for different thresholds\n",
    "thresholds = np.arange(0.0, 1.0, 0.01)\n",
    "\n",
    "precisions = []\n",
    "recalls = []\n",
    "\n",
    "for t in thresholds:\n",
    "\ty_pred = (y_val_pred >= t).astype(int)\n",
    "\ttp = int(((y_val == 1) & (y_pred >= t)).sum())\n",
    "\tfp = int(((y_val == 0) & (y_pred >= t)).sum())\n",
    "\tfn = int(((y_val == 1) & (y_pred < t)).sum())\n",
    "\n",
    "\tprecision = tp / (tp + fp) if (tp + fp) > 0 else 0.0\n",
    "\trecall = tp / (tp + fn) if (tp + fn) > 0 else 0.0\n",
    "\n",
    "\tprecisions.append(precision)\n",
    "\trecalls.append(recall)\n",
    "\n",
    "precisions = np.array(precisions)\n",
    "recalls = np.array(recalls)\n",
    "\n",
    "# find threshold where precision and recall are closest (intersection)\n",
    "idx = np.argmin(np.abs(precisions - recalls))\n",
    "threshold_intersect = thresholds[idx]\n",
    "\n",
    "print(f\"Threshold where precision and recall intersect (closest): {threshold_intersect:.3f}\")\n"
   ]
  },
  {
   "cell_type": "code",
   "execution_count": 648,
   "id": "994e05b7",
   "metadata": {},
   "outputs": [
    {
     "data": {
      "image/png": "[encoded data removed]",
      "text/plain": [
       "<Figure size 800x500 with 1 Axes>"
      ]
     },
     "metadata": {},
     "output_type": "display_data"
    }
   ],
   "source": [
    "# plot\n",
    "plt.figure(figsize=(8, 5))\n",
    "plt.plot(thresholds, precisions, label='precision')\n",
    "plt.plot(thresholds, recalls, label='recall')\n",
    "plt.axvline(threshold_intersect, color='gray', linestyle='--', alpha=0.7)\n",
    "plt.scatter([threshold_intersect], [precisions[idx]], color='black')\n",
    "plt.xlabel('threshold')\n",
    "plt.ylabel('score')\n",
    "plt.title('Precision and Recall vs Threshold (validation set)')\n",
    "plt.legend()\n",
    "plt.grid(True)\n",
    "plt.show()"
   ]
  },
  {
   "cell_type": "markdown",
   "id": "06e9b3c8",
   "metadata": {},
   "source": [
    "### Question 4: F1 score\n",
    "\n",
    "Precision and recall are conflicting - when one grows, the other goes down. That's why they are often combined into the F1 score - a metrics that takes into account both\n",
    "\n",
    "This is the formula for computing F1:\n",
    "\n",
    "$$F_1 = 2 \\cdot \\cfrac{P \\cdot R}{P + R}$$\n",
    "\n",
    "Where $P$ is precision and $R$ is recall.\n",
    "\n",
    "Let's compute F1 for all thresholds from 0.0 to 1.0 with increment 0.01\n",
    "\n",
    "At which threshold F1 is maximal?\n",
    "\n",
    "- 0.14\n",
    "- 0.34\n",
    "- 0.54\n",
    "- 0.74\n"
   ]
  },
  {
   "cell_type": "code",
   "execution_count": 649,
   "id": "9a243a6b",
   "metadata": {},
   "outputs": [
    {
     "name": "stdout",
     "output_type": "stream",
     "text": [
      "Best F1: 0.812 at threshold 0.57\n"
     ]
    }
   ],
   "source": [
    "# compute F1 for thresholds from 0.0 to 1.0 with step 0.01\n",
    "# Using y_val and y_val_pred that are already defined in the notebook\n",
    "\n",
    "thresholds = np.arange(0.0, 1.01, 0.01)\n",
    "\n",
    "f1_scores = []\n",
    "precisions = []\n",
    "recalls = []\n",
    "\n",
    "for t in thresholds:\n",
    "\ty_pred_t = (y_val_pred >= t).astype(int)\n",
    "\n",
    "\ttp = int(((y_val == 1) & (y_pred_t == 1)).sum())\n",
    "\tfp = int(((y_val == 0) & (y_pred_t == 1)).sum())\n",
    "\tfn = int(((y_val == 1) & (y_pred_t == 0)).sum())\n",
    "\n",
    "\tprecision = tp / (tp + fp) if (tp + fp) > 0 else 0.0\n",
    "\trecall = tp / (tp + fn) if (tp + fn) > 0 else 0.0\n",
    "\tf1 = 2 * precision * recall / (precision + recall) if (precision + recall) > 0 else 0.0\n",
    "\n",
    "\tprecisions.append(precision)\n",
    "\trecalls.append(recall)\n",
    "\tf1_scores.append(f1)\n",
    "\n",
    "f1_scores = np.array(f1_scores)\n",
    "precisions = np.array(precisions)\n",
    "recalls = np.array(recalls)\n",
    "\n",
    "idx_best = f1_scores.argmax()\n",
    "best_threshold = thresholds[idx_best]\n",
    "\n",
    "print(f\"Best F1: {f1_scores[idx_best]:.3f} at threshold {best_threshold:.2f}\")"
   ]
  },
  {
   "cell_type": "markdown",
   "id": "ce02ce4a",
   "metadata": {},
   "source": [
    "### Question 5: 5-Fold CV\n",
    "\n",
    "\n",
    "Use the `KFold` class from Scikit-Learn to evaluate our model on 5 different folds:\n",
    "\n",
    "```\n",
    "KFold(n_splits=5, shuffle=True, random_state=1)\n",
    "```\n",
    "\n",
    "* Iterate over different folds of `df_full_train`\n",
    "* Split the data into train and validation\n",
    "* Train the model on train with these parameters: `LogisticRegression(solver='liblinear', C=1.0, max_iter=1000)`\n",
    "* Use AUC to evaluate the model on validation\n",
    "\n",
    "How large is standard deviation of the scores across different folds?\n",
    "\n",
    "- 0.0001\n",
    "- 0.006\n",
    "- 0.06\n",
    "- 0.36"
   ]
  },
  {
   "cell_type": "code",
   "execution_count": 650,
   "id": "a8b7ec96",
   "metadata": {},
   "outputs": [
    {
     "name": "stdout",
     "output_type": "stream",
     "text": [
      "AUCs for folds: [0.8060745924216483, 0.8713738368910783, 0.7754320118852139, 0.8018368617683685, 0.8558272713202291]\n",
      "Mean AUC: 0.822\n",
      "Std AUC:  0.036\n"
     ]
    }
   ],
   "source": [
    "from sklearn.model_selection import KFold\n",
    "\n",
    "# 5-fold cross-validation on df_full_train\n",
    "kfold = KFold(n_splits=5, shuffle=True, random_state=1)\n",
    "\n",
    "aucs = []\n",
    "\n",
    "for train_idx, val_idx in kfold.split(df_full_train):\n",
    "\t# prepare train / validation folds\n",
    "\tdf_train_f = df_full_train.iloc[train_idx].reset_index(drop=True)\n",
    "\tdf_val_f = df_full_train.iloc[val_idx].reset_index(drop=True)\n",
    "\n",
    "\ty_train_f = df_train_f['converted'].values\n",
    "\ty_val_f = df_val_f['converted'].values\n",
    "\n",
    "\t# remove target from features\n",
    "\tdel df_train_f['converted']\n",
    "\tdel df_val_f['converted']\n",
    "\n",
    "\t# vectorize\n",
    "\ttrain_dicts = df_train_f.to_dict(orient='records')\n",
    "\tval_dicts = df_val_f.to_dict(orient='records')\n",
    "\n",
    "\tdv = DictVectorizer(sparse=False)\n",
    "\tX_train = dv.fit_transform(train_dicts)\n",
    "\tX_val = dv.transform(val_dicts)\n",
    "\n",
    "\t# train model\n",
    "\tmodel = LogisticRegression(solver='liblinear', C=1.0, max_iter=1000)\n",
    "\tmodel.fit(X_train, y_train_f)\n",
    "\n",
    "\t# predict and compute AUC\n",
    "\ty_val_pred = model.predict_proba(X_val)[:, 1]\n",
    "\tauc_score = roc_auc_score(y_val_f, y_val_pred)\n",
    "\taucs.append(auc_score)\n",
    "\n",
    "print('AUCs for folds:', aucs)\n",
    "print('Mean AUC: {:.3f}'.format(np.mean(aucs)))\n",
    "print('Std AUC:  {:.3f}'.format(np.std(aucs)))"
   ]
  },
  {
   "cell_type": "markdown",
   "id": "2f38e328",
   "metadata": {},
   "source": [
    "### Question 6: Hyperparameter Tuning\n",
    "\n",
    "Now let's use 5-Fold cross-validation to find the best parameter `C`\n",
    "\n",
    "* Iterate over the following `C` values: `[0.000001, 0.001, 1]`\n",
    "* Initialize `KFold` with the same parameters as previously\n",
    "* Use these parameters for the model: `LogisticRegression(solver='liblinear', C=C, max_iter=1000)`\n",
    "* Compute the mean score as well as the std (round the mean and std to 3 decimal digits)\n",
    "\n",
    "Which `C` leads to the best mean score?\n",
    "\n",
    "- 0.000001\n",
    "- 0.001\n",
    "- 1\n",
    "\n",
    "If you have ties, select the score with the lowest std. If you still have ties, select the smallest `C`."
   ]
  },
  {
   "cell_type": "code",
   "execution_count": 651,
   "id": "2a961c1f",
   "metadata": {},
   "outputs": [
    {
     "name": "stdout",
     "output_type": "stream",
     "text": [
      "C=1e-06: mean=0.560, std=0.024\n",
      "C=0.001: mean=0.867, std=0.029\n",
      "C=1: mean=0.822, std=0.036\n",
      "\n",
      "Best C: 0.001\n",
      "Mean AUC: 0.867, Std AUC: 0.029\n"
     ]
    }
   ],
   "source": [
    "# k-fold cross-validation to find the best C\n",
    "Cs = [0.000001, 0.001, 1]\n",
    "kfold = KFold(n_splits=5, shuffle=True, random_state=1)\n",
    "\n",
    "results = []\n",
    "\n",
    "for C in Cs:\n",
    "\taucs = []\n",
    "\tfor train_idx, val_idx in kfold.split(df_full_train):\n",
    "\t\t# prepare train / validation folds\n",
    "\t\tdf_train_f = df_full_train.iloc[train_idx].reset_index(drop=True)\n",
    "\t\tdf_val_f = df_full_train.iloc[val_idx].reset_index(drop=True)\n",
    "\n",
    "\t\ty_train_f = df_train_f['converted'].values\n",
    "\t\ty_val_f = df_val_f['converted'].values\n",
    "\n",
    "\t\t# remove target from features\n",
    "\t\tdel df_train_f['converted']\n",
    "\t\tdel df_val_f['converted']\n",
    "\n",
    "\t\t# vectorize\n",
    "\t\ttrain_dicts = df_train_f.to_dict(orient='records')\n",
    "\t\tval_dicts = df_val_f.to_dict(orient='records')\n",
    "\n",
    "\t\tdv = DictVectorizer(sparse=False)\n",
    "\t\tX_train = dv.fit_transform(train_dicts)\n",
    "\t\tX_val = dv.transform(val_dicts)\n",
    "\n",
    "\t\t# train model\n",
    "\t\tmodel = LogisticRegression(solver='liblinear', C=C, max_iter=1000)\n",
    "\t\tmodel.fit(X_train, y_train_f)\n",
    "\n",
    "\t\t# predict and compute AUC\n",
    "\t\ty_val_pred = model.predict_proba(X_val)[:, 1]\n",
    "\t\taucs.append(roc_auc_score(y_val_f, y_val_pred))\n",
    "\n",
    "\tmean_auc = float(np.mean(aucs))\n",
    "\tstd_auc = float(np.std(aucs))\n",
    "\tresults.append((C, mean_auc, std_auc))\n",
    "\tprint(f\"C={C}: mean={mean_auc:.3f}, std={std_auc:.3f}\")\n",
    "\n",
    "# select best C: highest mean, tie-breaker lower std, then smaller C\n",
    "results_sorted = sorted(results, key=lambda x: (-x[1], x[2], x[0]))\n",
    "best_C, best_mean, best_std = results_sorted[0]\n",
    "\n",
    "print()\n",
    "print(\"Best C: {}\".format(best_C))\n",
    "print(\"Mean AUC: {:.3f}, Std AUC: {:.3f}\".format(round(best_mean, 3), round(best_std, 3)))"
   ]
  },
  {
   "cell_type": "markdown",
   "id": "0f3ab831",
   "metadata": {},
   "source": [
    "\n",
    "## Submit the results\n",
    "\n",
    "* Submit your results here: https://courses.datatalks.club/ml-zoomcamp-2025/homework/hw04\n",
    "* If your answer doesn't match options exactly, select the closest one"
   ]
  }
 ],
 "metadata": {
  "kernelspec": {
   "display_name": "Python 3",
   "language": "python",
   "name": "python3"
  },
  "language_info": {
   "codemirror_mode": {
    "name": "ipython",
    "version": 3
   },
   "file_extension": ".py",
   "mimetype": "text/x-python",
   "name": "python",
   "nbconvert_exporter": "python",
   "pygments_lexer": "ipython3",
   "version": "3.12.10"
  }
 },
 "nbformat": 4,
 "nbformat_minor": 5
}
