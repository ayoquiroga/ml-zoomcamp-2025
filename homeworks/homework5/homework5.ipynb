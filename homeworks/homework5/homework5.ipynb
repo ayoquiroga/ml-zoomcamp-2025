{
 "cells": [
  {
   "cell_type": "markdown",
   "id": "4458df13-d0f7-462e-bc80-42169bb1a62b",
   "metadata": {},
   "source": [
    "## Homework\n",
    "\n",
    "> Note: sometimes your answer doesn't match one of the options exactly. \n",
    "> That's fine. \n",
    "> Select the option that's closest to your solution.\n",
    "\n",
    "We recommend using python 3.12 or 3.13 in this homework.\n",
    "\n",
    "In this homework, we're going to continue working with the lead scoring dataset. You don't need the dataset: we will provide the model for you.\n"
   ]
  },
  {
   "cell_type": "code",
   "execution_count": 1,
   "id": "a16177e8-cbd2-4088-9bb0-07a0cfb3eee6",
   "metadata": {},
   "outputs": [],
   "source": [
    "import pandas as pd\n",
    "import numpy as np\n",
    "import sklearn\n",
    "\n",
    "import pickle\n",
    "\n",
    "from sklearn.feature_extraction import DictVectorizer\n",
    "from sklearn.linear_model import LogisticRegression\n",
    "from sklearn.pipeline import make_pipeline"
   ]
  },
  {
   "cell_type": "markdown",
   "id": "ebd8d0ba",
   "metadata": {},
   "source": [
    "## Question 1\n",
    "\n",
    "* Install `uv`\n",
    "* What's the version of uv you installed?\n",
    "* Use `--version` to find out"
   ]
  },
  {
   "cell_type": "code",
   "execution_count": 3,
   "id": "56ddfd6b",
   "metadata": {},
   "outputs": [
    {
     "name": "stdout",
     "output_type": "stream",
     "text": [
      "Defaulting to user installation because normal site-packages is not writeable\n",
      "Requirement already satisfied: uv in c:\\users\\ayo\\appdata\\local\\packages\\pythonsoftwarefoundation.python.3.12_qbz5n2kfra8p0\\localcache\\local-packages\\python312\\site-packages (0.9.5)\n"
     ]
    }
   ],
   "source": [
    "!pip install uv"
   ]
  },
  {
   "cell_type": "code",
   "execution_count": 5,
   "id": "0a9c9d42",
   "metadata": {},
   "outputs": [
    {
     "name": "stdout",
     "output_type": "stream",
     "text": [
      "uv 0.9.5 (d5f39331a 2025-10-21)\n"
     ]
    }
   ],
   "source": [
    "!uv --version"
   ]
  },
  {
   "cell_type": "markdown",
   "id": "e996d678",
   "metadata": {},
   "source": [
    "* Q1 - Resonse:\n",
    "- uv 0.9.5 (d5f39331a 2025-10-21)"
   ]
  },
  {
   "cell_type": "code",
   "execution_count": 7,
   "metadata": {},
   "outputs": [
    {
     "name": "stdout",
     "output_type": "stream",
     "text": [
      "Defaulting to user installation because normal site-packages is not writeable\n",
      "Collecting scikit-learn==1.6.1\n",
      "  Downloading scikit_learn-1.6.1-cp312-cp312-win_amd64.whl.metadata (15 kB)\n",
      "Requirement already satisfied: numpy>=1.19.5 in c:\\users\\ayo\\appdata\\local\\packages\\pythonsoftwarefoundation.python.3.12_qbz5n2kfra8p0\\localcache\\local-packages\\python312\\site-packages (from scikit-learn==1.6.1) (2.0.1)\n",
      "Requirement already satisfied: scipy>=1.6.0 in c:\\users\\ayo\\appdata\\local\\packages\\pythonsoftwarefoundation.python.3.12_qbz5n2kfra8p0\\localcache\\local-packages\\python312\\site-packages (from scikit-learn==1.6.1) (1.16.2)\n",
      "Requirement already satisfied: joblib>=1.2.0 in c:\\users\\ayo\\appdata\\local\\packages\\pythonsoftwarefoundation.python.3.12_qbz5n2kfra8p0\\localcache\\local-packages\\python312\\site-packages (from scikit-learn==1.6.1) (1.5.2)\n",
      "Requirement already satisfied: threadpoolctl>=3.1.0 in c:\\users\\ayo\\appdata\\local\\packages\\pythonsoftwarefoundation.python.3.12_qbz5n2kfra8p0\\localcache\\local-packages\\python312\\site-packages (from scikit-learn==1.6.1) (3.6.0)\n",
      "Downloading scikit_learn-1.6.1-cp312-cp312-win_amd64.whl (11.1 MB)\n",
      "   ---------------------------------------- 0.0/11.1 MB ? eta -:--:--\n",
      "   -- ------------------------------------- 0.8/11.1 MB 5.6 MB/s eta 0:00:02\n",
      "   ------- -------------------------------- 2.1/11.1 MB 6.2 MB/s eta 0:00:02\n",
      "   ----------- ---------------------------- 3.1/11.1 MB 6.4 MB/s eta 0:00:02\n",
      "   ---------------- ----------------------- 4.5/11.1 MB 5.8 MB/s eta 0:00:02\n",
      "   ---------------------- ----------------- 6.3/11.1 MB 6.5 MB/s eta 0:00:01\n",
      "   ----------------------------- ---------- 8.1/11.1 MB 6.9 MB/s eta 0:00:01\n",
      "   ----------------------------------- ---- 10.0/11.1 MB 7.2 MB/s eta 0:00:01\n",
      "   ---------------------------------------- 11.1/11.1 MB 7.2 MB/s  0:00:01\n",
      "Installing collected packages: scikit-learn\n",
      "  Attempting uninstall: scikit-learn\n",
      "    Found existing installation: scikit-learn 1.7.2\n",
      "    Uninstalling scikit-learn-1.7.2:\n",
      "      Successfully uninstalled scikit-learn-1.7.2\n",
      "Successfully installed scikit-learn-1.6.1\n",
      "Note: you may need to restart the kernel to use updated packages.\n"
     ]
    },
    {
     "name": "stderr",
     "output_type": "stream",
     "text": [
      "  WARNING: Failed to remove contents in a temporary directory 'C:\\Users\\aYo\\AppData\\Local\\Packages\\PythonSoftwareFoundation.Python.3.12_qbz5n2kfra8p0\\LocalCache\\local-packages\\Python312\\site-packages\\~klearn'.\n",
      "  You can safely remove it manually.\n"
     ]
    }
   ],
   "source": [
    "%pip install scikit-learn==1.6.1"
   ]
  },
  {
   "cell_type": "code",
   "execution_count": 10,
   "id": "301f7f9a",
   "metadata": {},
   "outputs": [
    {
     "name": "stderr",
     "output_type": "stream",
     "text": [
      "Initialized project `\u001b[36mhomework5\u001b[39m`\n"
     ]
    }
   ],
   "source": [
    "!uv init"
   ]
  },
  {
   "cell_type": "code",
   "execution_count": 12,
   "id": "81e88387",
   "metadata": {},
   "outputs": [
    {
     "name": "stderr",
     "output_type": "stream",
     "text": [
      "\u001b[2mResolved \u001b[1m21 packages\u001b[0m \u001b[2min 471ms\u001b[0m\u001b[0m\n",
      "\u001b[36m\u001b[1mDownloading\u001b[0m\u001b[39m scikit-learn \u001b[2m(10.6MiB)\u001b[0m\n",
      " \u001b[32m\u001b[1mDownloading\u001b[0m\u001b[39m scikit-learn\n",
      "\u001b[2mPrepared \u001b[1m1 package\u001b[0m \u001b[2min 3.11s\u001b[0m\u001b[0m\n",
      "\u001b[2mUninstalled \u001b[1m1 package\u001b[0m \u001b[2min 244ms\u001b[0m\u001b[0m\n",
      "\u001b[2mInstalled \u001b[1m1 package\u001b[0m \u001b[2min 336ms\u001b[0m\u001b[0m\n",
      " \u001b[31m-\u001b[39m \u001b[1mscikit-learn\u001b[0m\u001b[2m==1.7.2\u001b[0m\n",
      " \u001b[32m+\u001b[39m \u001b[1mscikit-learn\u001b[0m\u001b[2m==1.6.1\u001b[0m\n"
     ]
    }
   ],
   "source": [
    "!uv add scikit-learn==1.6.1 fastapi uvicorn"
   ]
  },
  {
   "cell_type": "code",
   "execution_count": 15,
   "id": "c483b5be",
   "metadata": {},
   "outputs": [
    {
     "name": "stdout",
     "output_type": "stream",
     "text": [
      "Defaulting to user installation because normal site-packages is not writeable\n",
      "Requirement already satisfied: fastapi in c:\\users\\ayo\\appdata\\local\\packages\\pythonsoftwarefoundation.python.3.12_qbz5n2kfra8p0\\localcache\\local-packages\\python312\\site-packages (0.120.0)\n",
      "Requirement already satisfied: uvicorn in c:\\users\\ayo\\appdata\\local\\packages\\pythonsoftwarefoundation.python.3.12_qbz5n2kfra8p0\\localcache\\local-packages\\python312\\site-packages (0.38.0)\n",
      "Requirement already satisfied: starlette<0.49.0,>=0.40.0 in c:\\users\\ayo\\appdata\\local\\packages\\pythonsoftwarefoundation.python.3.12_qbz5n2kfra8p0\\localcache\\local-packages\\python312\\site-packages (from fastapi) (0.48.0)\n",
      "Requirement already satisfied: pydantic!=1.8,!=1.8.1,!=2.0.0,!=2.0.1,!=2.1.0,<3.0.0,>=1.7.4 in c:\\users\\ayo\\appdata\\local\\packages\\pythonsoftwarefoundation.python.3.12_qbz5n2kfra8p0\\localcache\\local-packages\\python312\\site-packages (from fastapi) (2.10.6)\n",
      "Requirement already satisfied: typing-extensions>=4.8.0 in c:\\users\\ayo\\appdata\\local\\packages\\pythonsoftwarefoundation.python.3.12_qbz5n2kfra8p0\\localcache\\local-packages\\python312\\site-packages (from fastapi) (4.12.2)\n",
      "Requirement already satisfied: annotated-doc>=0.0.2 in c:\\users\\ayo\\appdata\\local\\packages\\pythonsoftwarefoundation.python.3.12_qbz5n2kfra8p0\\localcache\\local-packages\\python312\\site-packages (from fastapi) (0.0.3)\n",
      "Requirement already satisfied: annotated-types>=0.6.0 in c:\\users\\ayo\\appdata\\local\\packages\\pythonsoftwarefoundation.python.3.12_qbz5n2kfra8p0\\localcache\\local-packages\\python312\\site-packages (from pydantic!=1.8,!=1.8.1,!=2.0.0,!=2.0.1,!=2.1.0,<3.0.0,>=1.7.4->fastapi) (0.7.0)\n",
      "Requirement already satisfied: pydantic-core==2.27.2 in c:\\users\\ayo\\appdata\\local\\packages\\pythonsoftwarefoundation.python.3.12_qbz5n2kfra8p0\\localcache\\local-packages\\python312\\site-packages (from pydantic!=1.8,!=1.8.1,!=2.0.0,!=2.0.1,!=2.1.0,<3.0.0,>=1.7.4->fastapi) (2.27.2)\n",
      "Requirement already satisfied: anyio<5,>=3.6.2 in c:\\users\\ayo\\appdata\\local\\packages\\pythonsoftwarefoundation.python.3.12_qbz5n2kfra8p0\\localcache\\local-packages\\python312\\site-packages (from starlette<0.49.0,>=0.40.0->fastapi) (4.8.0)\n",
      "Requirement already satisfied: idna>=2.8 in c:\\users\\ayo\\appdata\\local\\packages\\pythonsoftwarefoundation.python.3.12_qbz5n2kfra8p0\\localcache\\local-packages\\python312\\site-packages (from anyio<5,>=3.6.2->starlette<0.49.0,>=0.40.0->fastapi) (3.10)\n",
      "Requirement already satisfied: sniffio>=1.1 in c:\\users\\ayo\\appdata\\local\\packages\\pythonsoftwarefoundation.python.3.12_qbz5n2kfra8p0\\localcache\\local-packages\\python312\\site-packages (from anyio<5,>=3.6.2->starlette<0.49.0,>=0.40.0->fastapi) (1.3.1)\n",
      "Requirement already satisfied: click>=7.0 in c:\\users\\ayo\\appdata\\local\\packages\\pythonsoftwarefoundation.python.3.12_qbz5n2kfra8p0\\localcache\\local-packages\\python312\\site-packages (from uvicorn) (8.1.8)\n",
      "Requirement already satisfied: h11>=0.8 in c:\\users\\ayo\\appdata\\local\\packages\\pythonsoftwarefoundation.python.3.12_qbz5n2kfra8p0\\localcache\\local-packages\\python312\\site-packages (from uvicorn) (0.14.0)\n",
      "Requirement already satisfied: colorama in c:\\users\\ayo\\appdata\\local\\packages\\pythonsoftwarefoundation.python.3.12_qbz5n2kfra8p0\\localcache\\local-packages\\python312\\site-packages (from click>=7.0->uvicorn) (0.4.6)\n"
     ]
    },
    {
     "name": "stderr",
     "output_type": "stream",
     "text": [
      "\n",
      "[notice] A new release of pip is available: 25.2 -> 25.3\n",
      "[notice] To update, run: C:\\Users\\aYo\\AppData\\Local\\Microsoft\\WindowsApps\\PythonSoftwareFoundation.Python.3.12_qbz5n2kfra8p0\\python.exe -m pip install --upgrade pip\n"
     ]
    }
   ],
   "source": [
    "!pip install fastapi uvicorn"
   ]
  },
  {
   "cell_type": "code",
   "execution_count": 16,
   "id": "2308da3e",
   "metadata": {},
   "outputs": [
    {
     "name": "stderr",
     "output_type": "stream",
     "text": [
      "\u001b[2mResolved \u001b[1m21 packages\u001b[0m \u001b[2min 6ms\u001b[0m\u001b[0m\n",
      "\u001b[2mAudited \u001b[1m20 packages\u001b[0m \u001b[2min 76ms\u001b[0m\u001b[0m\n"
     ]
    }
   ],
   "source": [
    "!uv add scikit-learn==1.6.1 fastapi uvicorn"
   ]
  },
  {
   "cell_type": "markdown",
   "id": "83ec1086",
   "metadata": {},
   "source": [
    "## Initialize an empty uv project\n",
    "\n",
    "You should create an empty folder for homework\n",
    "and do it there. \n",
    "\n",
    "\n",
    "## Question 2\n",
    "\n",
    "* Use uv to install Scikit-Learn version 1.6.1 \n",
    "* What's the first hash for Scikit-Learn you get in the lock file?\n",
    "* Include the entire string starting with sha256:, don't include quotes"
   ]
  },
  {
   "cell_type": "markdown",
   "id": "37dfb3ba",
   "metadata": {},
   "source": [
    "* Q2 - Response\n",
    "- sha256:b4fc2525eca2c69a59260f583c56a7557c6ccdf8deafdba6e060f94c1c59738e"
   ]
  },
  {
   "cell_type": "markdown",
   "id": "5a92f503",
   "metadata": {},
   "source": [
    "## Models\n",
    "\n",
    "We have prepared a pipeline with a dictionary vectorizer and a model.\n",
    "\n",
    "It was trained (roughly) using this code:\n",
    "\n",
    "```python\n",
    "categorical = ['lead_source']\n",
    "numeric = ['number_of_courses_viewed', 'annual_income']\n",
    "\n",
    "df[categorical] = df[categorical].fillna('NA')\n",
    "df[numeric] = df[numeric].fillna(0)\n",
    "\n",
    "train_dict = df[categorical + numeric].to_dict(orient='records')\n",
    "\n",
    "pipeline = make_pipeline(\n",
    "    DictVectorizer(),\n",
    "    LogisticRegression(solver='liblinear')\n",
    ")\n",
    "\n",
    "pipeline.fit(train_dict, y_train)\n",
    "```\n",
    "\n",
    "> **Note**: You don't need to train the model. This code is just for your reference.\n",
    "\n",
    "And then saved with Pickle. Download it [here](https://github.com/DataTalksClub/machine-learning-zoomcamp/tree/master/cohorts/2025/05-deployment/pipeline_v1.bin).\n",
    "\n",
    "With `wget`:\n",
    "\n",
    "```bash\n",
    "wget https://github.com/DataTalksClub/machine-learning-zoomcamp/raw/refs/heads/master/cohorts/2025/05-deployment/pipeline_v1.bin\n",
    "```\n"
   ]
  },
  {
   "cell_type": "code",
   "execution_count": 13,
   "id": "4d2bbf9e",
   "metadata": {},
   "outputs": [
    {
     "name": "stderr",
     "output_type": "stream",
     "text": [
      "--2025-10-27 06:13:12--  https://github.com/DataTalksClub/machine-learning-zoomcamp/raw/refs/heads/master/cohorts/2025/05-deployment/pipeline_v1.bin\n",
      "Resolving github.com (github.com)... 4.228.31.150\n",
      "Connecting to github.com (github.com)|4.228.31.150|:443... connected.\n",
      "HTTP request sent, awaiting response... 302 Found\n",
      "Location: https://raw.githubusercontent.com/DataTalksClub/machine-learning-zoomcamp/refs/heads/master/cohorts/2025/05-deployment/pipeline_v1.bin [following]\n",
      "--2025-10-27 06:13:13--  https://raw.githubusercontent.com/DataTalksClub/machine-learning-zoomcamp/refs/heads/master/cohorts/2025/05-deployment/pipeline_v1.bin\n",
      "Resolving raw.githubusercontent.com (raw.githubusercontent.com)... 185.199.110.133, 185.199.109.133, 185.199.108.133, ...\n",
      "Connecting to raw.githubusercontent.com (raw.githubusercontent.com)|185.199.110.133|:443... connected.\n",
      "HTTP request sent, awaiting response... 200 OK\n",
      "Length: 1300 (1,3K) [application/octet-stream]\n",
      "Saving to: 'pipeline_v1.bin'\n",
      "\n",
      "     0K .                                                     100%  127M=0s\n",
      "\n",
      "2025-10-27 06:13:13 (127 MB/s) - 'pipeline_v1.bin' saved [1300/1300]\n",
      "\n"
     ]
    }
   ],
   "source": [
    "!wget \"https://github.com/DataTalksClub/machine-learning-zoomcamp/raw/refs/heads/master/cohorts/2025/05-deployment/pipeline_v1.bin\" -O \"pipeline_v1.bin\""
   ]
  },
  {
   "cell_type": "markdown",
   "id": "552df388",
   "metadata": {},
   "source": [
    "## Question 3\n",
    "\n",
    "Let's use the model!\n",
    "\n",
    "* Write a script for loading the pipeline with pickle\n",
    "* Score this record:\n",
    "\n",
    "```json\n",
    "{\n",
    "    \"lead_source\": \"paid_ads\",\n",
    "    \"number_of_courses_viewed\": 2,\n",
    "    \"annual_income\": 79276.0\n",
    "}\n",
    "```\n",
    "\n",
    "What's the probability that this lead will convert? \n",
    "\n",
    "* 0.333\n",
    "* 0.533\n",
    "* 0.733\n",
    "* 0.933"
   ]
  },
  {
   "cell_type": "markdown",
   "id": "cae6523e",
   "metadata": {},
   "source": [
    "* Q3 - Response\n",
    "- {\n",
    "-   \"lead_probability\": 0.5336072702798061,\n",
    "-   \"lead\": true\n",
    "- }"
   ]
  },
  {
   "cell_type": "markdown",
   "id": "a3ee284b",
   "metadata": {},
   "source": [
    "## Question 4\n",
    "\n",
    "Now let's serve this model as a web service\n",
    "\n",
    "* Install FastAPI\n",
    "* Write FastAPI code for serving the model\n",
    "* Now score this client using `requests`:\n",
    "\n",
    "```python\n",
    "url = \"YOUR_URL\"\n",
    "client = {\n",
    "    \"lead_source\": \"organic_search\",\n",
    "    \"number_of_courses_viewed\": 4,\n",
    "    \"annual_income\": 80304.0\n",
    "}\n",
    "requests.post(url, json=client).json()\n",
    "```\n",
    "\n",
    "What's the probability that this client will get a subscription?\n",
    "\n",
    "* 0.334\n",
    "* 0.534\n",
    "* 0.734\n",
    "* 0.934\n"
   ]
  },
  {
   "cell_type": "markdown",
   "id": "9ac6fcac",
   "metadata": {},
   "source": [
    "* Q4 - Response:\n",
    "\n",
    "- {\n",
    "-   \"lead_probability\": 0.5340417283801275,\n",
    "-  \"lead\": true\n",
    "- }"
   ]
  },
  {
   "cell_type": "markdown",
   "id": "36fa1146",
   "metadata": {},
   "source": [
    "## Docker\n",
    "\n",
    "Install [Docker](https://github.com/DataTalksClub/machine-learning-zoomcamp/blob/master/05-deployment/06-docker.md). \n",
    "We will use it for the next two questions.\n",
    "\n",
    "For these questions, we prepared a base image: `agrigorev/zoomcamp-model:2025`. \n",
    "You'll need to use it (see Question 5 for an example).\n",
    "\n",
    "This image is based on `3.13.5-slim-bookworm` and has\n",
    "a pipeline with logistic regression (a different one)\n",
    "as well a dictionary vectorizer inside. \n",
    "\n",
    "This is how the Dockerfile for this image looks like:\n",
    "\n",
    "```docker \n",
    "FROM python:3.13.5-slim-bookworm\n",
    "WORKDIR /code\n",
    "COPY pipeline_v2.bin .\n",
    "```\n",
    "\n",
    "We already built it and then pushed it to [`agrigorev/zoomcamp-model:2025`](https://hub.docker.com/r/agrigorev/zoomcamp-model).\n",
    "\n",
    "> **Note**: You don't need to build this docker image, it's just for your reference."
   ]
  },
  {
   "cell_type": "code",
   "execution_count": 14,
   "id": "0bcb14e2",
   "metadata": {},
   "outputs": [
    {
     "name": "stdout",
     "output_type": "stream",
     "text": [
      "2025: Pulling from agrigorev/zoomcamp-model\n",
      "816e9c0578b5: Pulling fs layer\n",
      "760c2b9cc6ee: Pulling fs layer\n",
      "760c2b9cc6ee: Download complete\n",
      "760c2b9cc6ee: Pull complete\n",
      "816e9c0578b5: Download complete\n",
      "816e9c0578b5: Pull complete\n",
      "Digest: sha256:14d79fde0bbf078eb18c99c2bd007205917b758ec11060b2994963a1e485c2ae\n",
      "Status: Downloaded newer image for agrigorev/zoomcamp-model:2025\n",
      "docker.io/agrigorev/zoomcamp-model:2025\n"
     ]
    }
   ],
   "source": [
    "!docker image pull agrigorev/zoomcamp-model:2025"
   ]
  },
  {
   "cell_type": "markdown",
   "id": "fb252b83",
   "metadata": {},
   "source": [
    "## Question 5\n",
    "\n",
    "Download the base image `agrigorev/zoomcamp-model:2025`. You can easily make it by using [docker pull](https://docs.docker.com/engine/reference/commandline/pull/) command.\n",
    "\n",
    "So what's the size of this base image?\n",
    "\n",
    "* 45 MB\n",
    "* 121 MB\n",
    "* 245 MB\n",
    "* 330 MB\n",
    "\n",
    "You can get this information when running `docker images` - it'll be in the \"SIZE\" column."
   ]
  },
  {
   "cell_type": "markdown",
   "id": "c8f4f8d3",
   "metadata": {},
   "source": [
    "* Q5 - Response\n",
    "- agrigorev/zoomcamp-model         2025      14d79fde0bbf   6 days ago       181MB"
   ]
  },
  {
   "cell_type": "markdown",
   "id": "f36181d3",
   "metadata": {},
   "source": [
    "## Dockerfile\n",
    "\n",
    "Now create your own `Dockerfile` based on the image we prepared.\n",
    "\n",
    "It should start like that:\n",
    "\n",
    "```docker\n",
    "FROM agrigorev/zoomcamp-model:2025\n",
    "# add your stuff here\n",
    "```\n",
    "\n",
    "Now complete it:\n",
    "\n",
    "* Install all the dependencies from pyproject.toml\n",
    "* Copy your FastAPI script\n",
    "* Run it with uvicorn \n",
    "\n",
    "After that, you can build your docker image.\n"
   ]
  },
  {
   "cell_type": "markdown",
   "id": "e2fd5104",
   "metadata": {},
   "source": [
    "## Question 6\n",
    "\n",
    "Let's run your docker container!\n",
    "\n",
    "After running it, score this client once again:\n",
    "\n",
    "```python\n",
    "url = \"YOUR_URL\"\n",
    "client = {\n",
    "    \"lead_source\": \"organic_search\",\n",
    "    \"number_of_courses_viewed\": 4,\n",
    "    \"annual_income\": 80304.0\n",
    "}\n",
    "requests.post(url, json=client).json()\n",
    "```\n",
    "\n",
    "What's the probability that this lead will convert?\n",
    "\n",
    "* 0.39\n",
    "* 0.59\n",
    "* 0.79\n",
    "* 0.99"
   ]
  },
  {
   "cell_type": "markdown",
   "id": "b0c9af74",
   "metadata": {},
   "source": [
    "* Q6 - Response\n",
    "- {\n",
    "-  \"lead_probability\": 0.5340417283801275,\n",
    "-  \"lead\": true\n",
    "- }"
   ]
  },
  {
   "cell_type": "markdown",
   "id": "d5f133d5",
   "metadata": {},
   "source": [
    "## Submit the results\n",
    "\n",
    "* Submit your results here: https://courses.datatalks.club/ml-zoomcamp-2025/homework/hw05\n",
    "* If your answer doesn't match options exactly, select the closest one"
   ]
  }
 ],
 "metadata": {
  "kernelspec": {
   "display_name": "Python 3",
   "language": "python",
   "name": "python3"
  },
  "language_info": {
   "codemirror_mode": {
    "name": "ipython",
    "version": 3
   },
   "file_extension": ".py",
   "mimetype": "text/x-python",
   "name": "python",
   "nbconvert_exporter": "python",
   "pygments_lexer": "ipython3",
   "version": "3.12.10"
  }
 },
 "nbformat": 4,
 "nbformat_minor": 5
}
